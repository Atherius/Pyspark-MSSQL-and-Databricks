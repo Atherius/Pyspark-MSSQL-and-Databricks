{
 "cells": [
  {
   "cell_type": "code",
   "execution_count": 0,
   "metadata": {
    "application/vnd.databricks.v1+cell": {
     "cellMetadata": {
      "byteLimit": 2048000,
      "rowLimit": 10000
     },
     "inputWidgets": {},
     "nuid": "b9e51909-4f5f-4ba2-b930-f4afcf7d8aa2",
     "showTitle": false,
     "tableResultSettingsMap": {},
     "title": ""
    }
   },
   "outputs": [],
   "source": [
    "from pyspark.sql import *\n",
    "from pyspark.sql.functions import *\n",
    "from pyspark.sql.types import *"
   ]
  },
  {
   "cell_type": "code",
   "execution_count": 0,
   "metadata": {
    "application/vnd.databricks.v1+cell": {
     "cellMetadata": {
      "byteLimit": 2048000,
      "rowLimit": 10000
     },
     "inputWidgets": {},
     "nuid": "596ddeac-f7a9-4abe-8139-f0bc04226f21",
     "showTitle": false,
     "tableResultSettingsMap": {},
     "title": ""
    }
   },
   "outputs": [
    {
     "output_type": "display_data",
     "data": {
      "text/html": [
       "<style scoped>\n",
       "  .table-result-container {\n",
       "    max-height: 300px;\n",
       "    overflow: auto;\n",
       "  }\n",
       "  table, th, td {\n",
       "    border: 1px solid black;\n",
       "    border-collapse: collapse;\n",
       "  }\n",
       "  th, td {\n",
       "    padding: 5px;\n",
       "  }\n",
       "  th {\n",
       "    text-align: left;\n",
       "  }\n",
       "</style><div class='table-result-container'><table class='table-result'><thead style='background-color: white'><tr><th>Anime_ID</th><th>Anime_Name</th><th>Genre</th></tr></thead><tbody><tr><td>1</td><td>Attack on Titan</td><td>Action</td></tr><tr><td>2</td><td>Death Note</td><td>Thriller</td></tr><tr><td>3</td><td>One Piece</td><td>Adventure</td></tr><tr><td>4</td><td>Naruto</td><td>Action</td></tr></tbody></table></div>"
      ]
     },
     "metadata": {
      "application/vnd.databricks.v1+output": {
       "addedWidgets": {},
       "aggData": [],
       "aggError": "",
       "aggOverflow": false,
       "aggSchema": [],
       "aggSeriesLimitReached": false,
       "aggType": "",
       "arguments": {},
       "columnCustomDisplayInfos": {},
       "data": [
        [
         1,
         "Attack on Titan",
         "Action"
        ],
        [
         2,
         "Death Note",
         "Thriller"
        ],
        [
         3,
         "One Piece",
         "Adventure"
        ],
        [
         4,
         "Naruto",
         "Action"
        ]
       ],
       "datasetInfos": [],
       "dbfsResultPath": null,
       "isJsonSchema": true,
       "metadata": {},
       "overflow": false,
       "plotOptions": {
        "customPlotOptions": {},
        "displayType": "table",
        "pivotAggregation": null,
        "pivotColumns": null,
        "xColumns": null,
        "yColumns": null
       },
       "removedWidgets": [],
       "schema": [
        {
         "metadata": "{}",
         "name": "Anime_ID",
         "type": "\"long\""
        },
        {
         "metadata": "{}",
         "name": "Anime_Name",
         "type": "\"string\""
        },
        {
         "metadata": "{}",
         "name": "Genre",
         "type": "\"string\""
        }
       ],
       "type": "table"
      }
     },
     "output_type": "display_data"
    }
   ],
   "source": [
    "data1 = [\n",
    "    (1, \"Attack on Titan\", \"Action\"),\n",
    "    (2, \"Death Note\", \"Thriller\"),\n",
    "    (3, \"One Piece\", \"Adventure\"),\n",
    "    (4, \"Naruto\", \"Action\"),\n",
    "]\n",
    "\n",
    "columns1 = [\"Anime_ID\", \"Anime_Name\", \"Genre\"]\n",
    "df1 = spark.createDataFrame(data1, columns1)\n",
    "display(df1)"
   ]
  },
  {
   "cell_type": "code",
   "execution_count": 0,
   "metadata": {
    "application/vnd.databricks.v1+cell": {
     "cellMetadata": {
      "byteLimit": 2048000,
      "rowLimit": 10000
     },
     "inputWidgets": {},
     "nuid": "74f5921a-7ed6-4b12-b0de-34f77838015a",
     "showTitle": false,
     "tableResultSettingsMap": {},
     "title": ""
    }
   },
   "outputs": [
    {
     "output_type": "display_data",
     "data": {
      "text/html": [
       "<style scoped>\n",
       "  .table-result-container {\n",
       "    max-height: 300px;\n",
       "    overflow: auto;\n",
       "  }\n",
       "  table, th, td {\n",
       "    border: 1px solid black;\n",
       "    border-collapse: collapse;\n",
       "  }\n",
       "  th, td {\n",
       "    padding: 5px;\n",
       "  }\n",
       "  th {\n",
       "    text-align: left;\n",
       "  }\n",
       "</style><div class='table-result-container'><table class='table-result'><thead style='background-color: white'><tr><th>Anime_ID</th><th>Rating</th><th>Review</th></tr></thead><tbody><tr><td>1</td><td>9.0</td><td>Highly Rated</td></tr><tr><td>2</td><td>9.5</td><td>Highly Rated</td></tr><tr><td>3</td><td>8.8</td><td>Popular</td></tr><tr><td>5</td><td>7.5</td><td>Average</td></tr></tbody></table></div>"
      ]
     },
     "metadata": {
      "application/vnd.databricks.v1+output": {
       "addedWidgets": {},
       "aggData": [],
       "aggError": "",
       "aggOverflow": false,
       "aggSchema": [],
       "aggSeriesLimitReached": false,
       "aggType": "",
       "arguments": {},
       "columnCustomDisplayInfos": {},
       "data": [
        [
         1,
         9.0,
         "Highly Rated"
        ],
        [
         2,
         9.5,
         "Highly Rated"
        ],
        [
         3,
         8.8,
         "Popular"
        ],
        [
         5,
         7.5,
         "Average"
        ]
       ],
       "datasetInfos": [],
       "dbfsResultPath": null,
       "isJsonSchema": true,
       "metadata": {},
       "overflow": false,
       "plotOptions": {
        "customPlotOptions": {},
        "displayType": "table",
        "pivotAggregation": null,
        "pivotColumns": null,
        "xColumns": null,
        "yColumns": null
       },
       "removedWidgets": [],
       "schema": [
        {
         "metadata": "{}",
         "name": "Anime_ID",
         "type": "\"long\""
        },
        {
         "metadata": "{}",
         "name": "Rating",
         "type": "\"double\""
        },
        {
         "metadata": "{}",
         "name": "Review",
         "type": "\"string\""
        }
       ],
       "type": "table"
      }
     },
     "output_type": "display_data"
    }
   ],
   "source": [
    "data2 = [\n",
    "    (1, 9.0, \"Highly Rated\"),\n",
    "    (2, 9.5, \"Highly Rated\"),\n",
    "    (3, 8.8, \"Popular\"),\n",
    "    (5, 7.5, \"Average\"),\n",
    "]\n",
    "\n",
    "columns2 = [\"Anime_ID\", \"Rating\", \"Review\"]\n",
    "df2 = spark.createDataFrame(data2, columns2)\n",
    "display(df2)"
   ]
  },
  {
   "cell_type": "markdown",
   "metadata": {
    "application/vnd.databricks.v1+cell": {
     "cellMetadata": {},
     "inputWidgets": {},
     "nuid": "9ae8eef5-ad3c-4192-8029-718b399c1763",
     "showTitle": false,
     "tableResultSettingsMap": {},
     "title": ""
    }
   },
   "source": [
    ">Inner Join"
   ]
  },
  {
   "cell_type": "code",
   "execution_count": 0,
   "metadata": {
    "application/vnd.databricks.v1+cell": {
     "cellMetadata": {
      "byteLimit": 2048000,
      "rowLimit": 10000
     },
     "inputWidgets": {},
     "nuid": "c9a8cc8d-7b71-45f2-9c06-8cd9a53d25ee",
     "showTitle": false,
     "tableResultSettingsMap": {},
     "title": ""
    }
   },
   "outputs": [
    {
     "output_type": "display_data",
     "data": {
      "text/html": [
       "<style scoped>\n",
       "  .table-result-container {\n",
       "    max-height: 300px;\n",
       "    overflow: auto;\n",
       "  }\n",
       "  table, th, td {\n",
       "    border: 1px solid black;\n",
       "    border-collapse: collapse;\n",
       "  }\n",
       "  th, td {\n",
       "    padding: 5px;\n",
       "  }\n",
       "  th {\n",
       "    text-align: left;\n",
       "  }\n",
       "</style><div class='table-result-container'><table class='table-result'><thead style='background-color: white'><tr><th>Anime_ID</th><th>Anime_Name</th><th>Genre</th><th>Rating</th><th>Review</th></tr></thead><tbody><tr><td>1</td><td>Attack on Titan</td><td>Action</td><td>9.0</td><td>Highly Rated</td></tr><tr><td>2</td><td>Death Note</td><td>Thriller</td><td>9.5</td><td>Highly Rated</td></tr><tr><td>3</td><td>One Piece</td><td>Adventure</td><td>8.8</td><td>Popular</td></tr></tbody></table></div>"
      ]
     },
     "metadata": {
      "application/vnd.databricks.v1+output": {
       "addedWidgets": {},
       "aggData": [],
       "aggError": "",
       "aggOverflow": false,
       "aggSchema": [],
       "aggSeriesLimitReached": false,
       "aggType": "",
       "arguments": {},
       "columnCustomDisplayInfos": {},
       "data": [
        [
         1,
         "Attack on Titan",
         "Action",
         9.0,
         "Highly Rated"
        ],
        [
         2,
         "Death Note",
         "Thriller",
         9.5,
         "Highly Rated"
        ],
        [
         3,
         "One Piece",
         "Adventure",
         8.8,
         "Popular"
        ]
       ],
       "datasetInfos": [],
       "dbfsResultPath": null,
       "isJsonSchema": true,
       "metadata": {},
       "overflow": false,
       "plotOptions": {
        "customPlotOptions": {},
        "displayType": "table",
        "pivotAggregation": null,
        "pivotColumns": null,
        "xColumns": null,
        "yColumns": null
       },
       "removedWidgets": [],
       "schema": [
        {
         "metadata": "{}",
         "name": "Anime_ID",
         "type": "\"long\""
        },
        {
         "metadata": "{}",
         "name": "Anime_Name",
         "type": "\"string\""
        },
        {
         "metadata": "{}",
         "name": "Genre",
         "type": "\"string\""
        },
        {
         "metadata": "{}",
         "name": "Rating",
         "type": "\"double\""
        },
        {
         "metadata": "{}",
         "name": "Review",
         "type": "\"string\""
        }
       ],
       "type": "table"
      }
     },
     "output_type": "display_data"
    }
   ],
   "source": [
    "inner_join = df1.join(df2, on=\"Anime_ID\", how=\"inner\")\n",
    "display(inner_join)"
   ]
  },
  {
   "cell_type": "markdown",
   "metadata": {
    "application/vnd.databricks.v1+cell": {
     "cellMetadata": {},
     "inputWidgets": {},
     "nuid": "f63cb055-4243-44d0-afdc-950df0787d71",
     "showTitle": false,
     "tableResultSettingsMap": {},
     "title": ""
    }
   },
   "source": [
    ">Left Join\n"
   ]
  },
  {
   "cell_type": "code",
   "execution_count": 0,
   "metadata": {
    "application/vnd.databricks.v1+cell": {
     "cellMetadata": {
      "byteLimit": 2048000,
      "rowLimit": 10000
     },
     "inputWidgets": {},
     "nuid": "97a4fc75-4abb-4ebf-b885-2f46f5c47830",
     "showTitle": false,
     "tableResultSettingsMap": {},
     "title": ""
    }
   },
   "outputs": [
    {
     "output_type": "display_data",
     "data": {
      "text/html": [
       "<style scoped>\n",
       "  .table-result-container {\n",
       "    max-height: 300px;\n",
       "    overflow: auto;\n",
       "  }\n",
       "  table, th, td {\n",
       "    border: 1px solid black;\n",
       "    border-collapse: collapse;\n",
       "  }\n",
       "  th, td {\n",
       "    padding: 5px;\n",
       "  }\n",
       "  th {\n",
       "    text-align: left;\n",
       "  }\n",
       "</style><div class='table-result-container'><table class='table-result'><thead style='background-color: white'><tr><th>Anime_ID</th><th>Anime_Name</th><th>Genre</th><th>Rating</th><th>Review</th></tr></thead><tbody><tr><td>1</td><td>Attack on Titan</td><td>Action</td><td>9.0</td><td>Highly Rated</td></tr><tr><td>2</td><td>Death Note</td><td>Thriller</td><td>9.5</td><td>Highly Rated</td></tr><tr><td>3</td><td>One Piece</td><td>Adventure</td><td>8.8</td><td>Popular</td></tr><tr><td>4</td><td>Naruto</td><td>Action</td><td>null</td><td>null</td></tr></tbody></table></div>"
      ]
     },
     "metadata": {
      "application/vnd.databricks.v1+output": {
       "addedWidgets": {},
       "aggData": [],
       "aggError": "",
       "aggOverflow": false,
       "aggSchema": [],
       "aggSeriesLimitReached": false,
       "aggType": "",
       "arguments": {},
       "columnCustomDisplayInfos": {},
       "data": [
        [
         1,
         "Attack on Titan",
         "Action",
         9.0,
         "Highly Rated"
        ],
        [
         2,
         "Death Note",
         "Thriller",
         9.5,
         "Highly Rated"
        ],
        [
         3,
         "One Piece",
         "Adventure",
         8.8,
         "Popular"
        ],
        [
         4,
         "Naruto",
         "Action",
         null,
         null
        ]
       ],
       "datasetInfos": [],
       "dbfsResultPath": null,
       "isJsonSchema": true,
       "metadata": {},
       "overflow": false,
       "plotOptions": {
        "customPlotOptions": {},
        "displayType": "table",
        "pivotAggregation": null,
        "pivotColumns": null,
        "xColumns": null,
        "yColumns": null
       },
       "removedWidgets": [],
       "schema": [
        {
         "metadata": "{}",
         "name": "Anime_ID",
         "type": "\"long\""
        },
        {
         "metadata": "{}",
         "name": "Anime_Name",
         "type": "\"string\""
        },
        {
         "metadata": "{}",
         "name": "Genre",
         "type": "\"string\""
        },
        {
         "metadata": "{}",
         "name": "Rating",
         "type": "\"double\""
        },
        {
         "metadata": "{}",
         "name": "Review",
         "type": "\"string\""
        }
       ],
       "type": "table"
      }
     },
     "output_type": "display_data"
    }
   ],
   "source": [
    "left_join = df1.join(df2, on=\"Anime_ID\", how=\"left\")\n",
    "display(left_join)\n"
   ]
  },
  {
   "cell_type": "markdown",
   "metadata": {
    "application/vnd.databricks.v1+cell": {
     "cellMetadata": {},
     "inputWidgets": {},
     "nuid": "1309ceda-a1ed-4231-bd74-0cbac9e0181d",
     "showTitle": false,
     "tableResultSettingsMap": {},
     "title": ""
    }
   },
   "source": [
    ">Right Join"
   ]
  },
  {
   "cell_type": "code",
   "execution_count": 0,
   "metadata": {
    "application/vnd.databricks.v1+cell": {
     "cellMetadata": {
      "byteLimit": 2048000,
      "rowLimit": 10000
     },
     "inputWidgets": {},
     "nuid": "17c9d957-f963-4fd7-997b-ca68f3ffef24",
     "showTitle": false,
     "tableResultSettingsMap": {},
     "title": ""
    }
   },
   "outputs": [
    {
     "output_type": "display_data",
     "data": {
      "text/html": [
       "<style scoped>\n",
       "  .table-result-container {\n",
       "    max-height: 300px;\n",
       "    overflow: auto;\n",
       "  }\n",
       "  table, th, td {\n",
       "    border: 1px solid black;\n",
       "    border-collapse: collapse;\n",
       "  }\n",
       "  th, td {\n",
       "    padding: 5px;\n",
       "  }\n",
       "  th {\n",
       "    text-align: left;\n",
       "  }\n",
       "</style><div class='table-result-container'><table class='table-result'><thead style='background-color: white'><tr><th>Anime_ID</th><th>Anime_Name</th><th>Genre</th><th>Rating</th><th>Review</th></tr></thead><tbody><tr><td>1</td><td>Attack on Titan</td><td>Action</td><td>9.0</td><td>Highly Rated</td></tr><tr><td>2</td><td>Death Note</td><td>Thriller</td><td>9.5</td><td>Highly Rated</td></tr><tr><td>3</td><td>One Piece</td><td>Adventure</td><td>8.8</td><td>Popular</td></tr><tr><td>5</td><td>null</td><td>null</td><td>7.5</td><td>Average</td></tr></tbody></table></div>"
      ]
     },
     "metadata": {
      "application/vnd.databricks.v1+output": {
       "addedWidgets": {},
       "aggData": [],
       "aggError": "",
       "aggOverflow": false,
       "aggSchema": [],
       "aggSeriesLimitReached": false,
       "aggType": "",
       "arguments": {},
       "columnCustomDisplayInfos": {},
       "data": [
        [
         1,
         "Attack on Titan",
         "Action",
         9.0,
         "Highly Rated"
        ],
        [
         2,
         "Death Note",
         "Thriller",
         9.5,
         "Highly Rated"
        ],
        [
         3,
         "One Piece",
         "Adventure",
         8.8,
         "Popular"
        ],
        [
         5,
         null,
         null,
         7.5,
         "Average"
        ]
       ],
       "datasetInfos": [],
       "dbfsResultPath": null,
       "isJsonSchema": true,
       "metadata": {},
       "overflow": false,
       "plotOptions": {
        "customPlotOptions": {},
        "displayType": "table",
        "pivotAggregation": null,
        "pivotColumns": null,
        "xColumns": null,
        "yColumns": null
       },
       "removedWidgets": [],
       "schema": [
        {
         "metadata": "{}",
         "name": "Anime_ID",
         "type": "\"long\""
        },
        {
         "metadata": "{}",
         "name": "Anime_Name",
         "type": "\"string\""
        },
        {
         "metadata": "{}",
         "name": "Genre",
         "type": "\"string\""
        },
        {
         "metadata": "{}",
         "name": "Rating",
         "type": "\"double\""
        },
        {
         "metadata": "{}",
         "name": "Review",
         "type": "\"string\""
        }
       ],
       "type": "table"
      }
     },
     "output_type": "display_data"
    }
   ],
   "source": [
    "right_join = df1.join(df2, on=\"Anime_ID\", how=\"right\")\n",
    "display(right_join)"
   ]
  },
  {
   "cell_type": "markdown",
   "metadata": {
    "application/vnd.databricks.v1+cell": {
     "cellMetadata": {},
     "inputWidgets": {},
     "nuid": "159aae82-7175-4d62-ac86-f328faf1adae",
     "showTitle": false,
     "tableResultSettingsMap": {},
     "title": ""
    }
   },
   "source": [
    ">Full Outer Join\n"
   ]
  },
  {
   "cell_type": "code",
   "execution_count": 0,
   "metadata": {
    "application/vnd.databricks.v1+cell": {
     "cellMetadata": {
      "byteLimit": 2048000,
      "rowLimit": 10000
     },
     "inputWidgets": {},
     "nuid": "d433e394-5977-491e-a392-f772b16be817",
     "showTitle": false,
     "tableResultSettingsMap": {},
     "title": ""
    }
   },
   "outputs": [
    {
     "output_type": "display_data",
     "data": {
      "text/html": [
       "<style scoped>\n",
       "  .table-result-container {\n",
       "    max-height: 300px;\n",
       "    overflow: auto;\n",
       "  }\n",
       "  table, th, td {\n",
       "    border: 1px solid black;\n",
       "    border-collapse: collapse;\n",
       "  }\n",
       "  th, td {\n",
       "    padding: 5px;\n",
       "  }\n",
       "  th {\n",
       "    text-align: left;\n",
       "  }\n",
       "</style><div class='table-result-container'><table class='table-result'><thead style='background-color: white'><tr><th>Anime_ID</th><th>Anime_Name</th><th>Genre</th><th>Rating</th><th>Review</th></tr></thead><tbody><tr><td>1</td><td>Attack on Titan</td><td>Action</td><td>9.0</td><td>Highly Rated</td></tr><tr><td>2</td><td>Death Note</td><td>Thriller</td><td>9.5</td><td>Highly Rated</td></tr><tr><td>3</td><td>One Piece</td><td>Adventure</td><td>8.8</td><td>Popular</td></tr><tr><td>4</td><td>Naruto</td><td>Action</td><td>null</td><td>null</td></tr><tr><td>5</td><td>null</td><td>null</td><td>7.5</td><td>Average</td></tr></tbody></table></div>"
      ]
     },
     "metadata": {
      "application/vnd.databricks.v1+output": {
       "addedWidgets": {},
       "aggData": [],
       "aggError": "",
       "aggOverflow": false,
       "aggSchema": [],
       "aggSeriesLimitReached": false,
       "aggType": "",
       "arguments": {},
       "columnCustomDisplayInfos": {},
       "data": [
        [
         1,
         "Attack on Titan",
         "Action",
         9.0,
         "Highly Rated"
        ],
        [
         2,
         "Death Note",
         "Thriller",
         9.5,
         "Highly Rated"
        ],
        [
         3,
         "One Piece",
         "Adventure",
         8.8,
         "Popular"
        ],
        [
         4,
         "Naruto",
         "Action",
         null,
         null
        ],
        [
         5,
         null,
         null,
         7.5,
         "Average"
        ]
       ],
       "datasetInfos": [],
       "dbfsResultPath": null,
       "isJsonSchema": true,
       "metadata": {},
       "overflow": false,
       "plotOptions": {
        "customPlotOptions": {},
        "displayType": "table",
        "pivotAggregation": null,
        "pivotColumns": null,
        "xColumns": null,
        "yColumns": null
       },
       "removedWidgets": [],
       "schema": [
        {
         "metadata": "{}",
         "name": "Anime_ID",
         "type": "\"long\""
        },
        {
         "metadata": "{}",
         "name": "Anime_Name",
         "type": "\"string\""
        },
        {
         "metadata": "{}",
         "name": "Genre",
         "type": "\"string\""
        },
        {
         "metadata": "{}",
         "name": "Rating",
         "type": "\"double\""
        },
        {
         "metadata": "{}",
         "name": "Review",
         "type": "\"string\""
        }
       ],
       "type": "table"
      }
     },
     "output_type": "display_data"
    }
   ],
   "source": [
    "full_outer_join = df1.join(df2, on=\"Anime_ID\", how=\"outer\")\n",
    "display(full_outer_join)\n"
   ]
  },
  {
   "cell_type": "markdown",
   "metadata": {
    "application/vnd.databricks.v1+cell": {
     "cellMetadata": {},
     "inputWidgets": {},
     "nuid": "f1db1d02-e51e-4211-bdcb-6d00c0712218",
     "showTitle": false,
     "tableResultSettingsMap": {},
     "title": ""
    }
   },
   "source": [
    ">Left Anti Join (Only records from left that have no match)"
   ]
  },
  {
   "cell_type": "code",
   "execution_count": 0,
   "metadata": {
    "application/vnd.databricks.v1+cell": {
     "cellMetadata": {
      "byteLimit": 2048000,
      "rowLimit": 10000
     },
     "inputWidgets": {},
     "nuid": "4aade7a2-e2fa-44c4-9433-faeaf931c751",
     "showTitle": false,
     "tableResultSettingsMap": {},
     "title": ""
    }
   },
   "outputs": [
    {
     "output_type": "display_data",
     "data": {
      "text/html": [
       "<style scoped>\n",
       "  .table-result-container {\n",
       "    max-height: 300px;\n",
       "    overflow: auto;\n",
       "  }\n",
       "  table, th, td {\n",
       "    border: 1px solid black;\n",
       "    border-collapse: collapse;\n",
       "  }\n",
       "  th, td {\n",
       "    padding: 5px;\n",
       "  }\n",
       "  th {\n",
       "    text-align: left;\n",
       "  }\n",
       "</style><div class='table-result-container'><table class='table-result'><thead style='background-color: white'><tr><th>Anime_ID</th><th>Anime_Name</th><th>Genre</th></tr></thead><tbody><tr><td>4</td><td>Naruto</td><td>Action</td></tr></tbody></table></div>"
      ]
     },
     "metadata": {
      "application/vnd.databricks.v1+output": {
       "addedWidgets": {},
       "aggData": [],
       "aggError": "",
       "aggOverflow": false,
       "aggSchema": [],
       "aggSeriesLimitReached": false,
       "aggType": "",
       "arguments": {},
       "columnCustomDisplayInfos": {},
       "data": [
        [
         4,
         "Naruto",
         "Action"
        ]
       ],
       "datasetInfos": [],
       "dbfsResultPath": null,
       "isJsonSchema": true,
       "metadata": {},
       "overflow": false,
       "plotOptions": {
        "customPlotOptions": {},
        "displayType": "table",
        "pivotAggregation": null,
        "pivotColumns": null,
        "xColumns": null,
        "yColumns": null
       },
       "removedWidgets": [],
       "schema": [
        {
         "metadata": "{}",
         "name": "Anime_ID",
         "type": "\"long\""
        },
        {
         "metadata": "{}",
         "name": "Anime_Name",
         "type": "\"string\""
        },
        {
         "metadata": "{}",
         "name": "Genre",
         "type": "\"string\""
        }
       ],
       "type": "table"
      }
     },
     "output_type": "display_data"
    }
   ],
   "source": [
    "left_anti_join = df1.join(df2, on=\"Anime_ID\", how=\"left_anti\")\n",
    "display(left_anti_join)"
   ]
  },
  {
   "cell_type": "markdown",
   "metadata": {
    "application/vnd.databricks.v1+cell": {
     "cellMetadata": {},
     "inputWidgets": {},
     "nuid": "ae328164-0286-40fa-acd4-46bed8ac2d70",
     "showTitle": false,
     "tableResultSettingsMap": {},
     "title": ""
    }
   },
   "source": [
    ">Left Semi Join (Only records from left that have a match)"
   ]
  },
  {
   "cell_type": "code",
   "execution_count": 0,
   "metadata": {
    "application/vnd.databricks.v1+cell": {
     "cellMetadata": {
      "byteLimit": 2048000,
      "rowLimit": 10000
     },
     "inputWidgets": {},
     "nuid": "4f075932-7334-49ea-8e37-700d6a764553",
     "showTitle": false,
     "tableResultSettingsMap": {},
     "title": ""
    }
   },
   "outputs": [
    {
     "output_type": "display_data",
     "data": {
      "text/html": [
       "<style scoped>\n",
       "  .table-result-container {\n",
       "    max-height: 300px;\n",
       "    overflow: auto;\n",
       "  }\n",
       "  table, th, td {\n",
       "    border: 1px solid black;\n",
       "    border-collapse: collapse;\n",
       "  }\n",
       "  th, td {\n",
       "    padding: 5px;\n",
       "  }\n",
       "  th {\n",
       "    text-align: left;\n",
       "  }\n",
       "</style><div class='table-result-container'><table class='table-result'><thead style='background-color: white'><tr><th>Anime_ID</th><th>Anime_Name</th><th>Genre</th></tr></thead><tbody><tr><td>1</td><td>Attack on Titan</td><td>Action</td></tr><tr><td>2</td><td>Death Note</td><td>Thriller</td></tr><tr><td>3</td><td>One Piece</td><td>Adventure</td></tr></tbody></table></div>"
      ]
     },
     "metadata": {
      "application/vnd.databricks.v1+output": {
       "addedWidgets": {},
       "aggData": [],
       "aggError": "",
       "aggOverflow": false,
       "aggSchema": [],
       "aggSeriesLimitReached": false,
       "aggType": "",
       "arguments": {},
       "columnCustomDisplayInfos": {},
       "data": [
        [
         1,
         "Attack on Titan",
         "Action"
        ],
        [
         2,
         "Death Note",
         "Thriller"
        ],
        [
         3,
         "One Piece",
         "Adventure"
        ]
       ],
       "datasetInfos": [],
       "dbfsResultPath": null,
       "isJsonSchema": true,
       "metadata": {},
       "overflow": false,
       "plotOptions": {
        "customPlotOptions": {},
        "displayType": "table",
        "pivotAggregation": null,
        "pivotColumns": null,
        "xColumns": null,
        "yColumns": null
       },
       "removedWidgets": [],
       "schema": [
        {
         "metadata": "{}",
         "name": "Anime_ID",
         "type": "\"long\""
        },
        {
         "metadata": "{}",
         "name": "Anime_Name",
         "type": "\"string\""
        },
        {
         "metadata": "{}",
         "name": "Genre",
         "type": "\"string\""
        }
       ],
       "type": "table"
      }
     },
     "output_type": "display_data"
    }
   ],
   "source": [
    "left_semi_join = df1.join(df2, on=\"Anime_ID\", how=\"left_semi\")\n",
    "display(left_semi_join)\n"
   ]
  },
  {
   "cell_type": "markdown",
   "metadata": {
    "application/vnd.databricks.v1+cell": {
     "cellMetadata": {},
     "inputWidgets": {},
     "nuid": "5cf28da0-8ce2-462b-ad8b-0861dea91d26",
     "showTitle": false,
     "tableResultSettingsMap": {},
     "title": ""
    }
   },
   "source": [
    ">merged_df = df1.unionByName(df2, allowMissingColumns=True)\n",
    "merged_df.show()\n"
   ]
  },
  {
   "cell_type": "code",
   "execution_count": 0,
   "metadata": {
    "application/vnd.databricks.v1+cell": {
     "cellMetadata": {
      "byteLimit": 2048000,
      "rowLimit": 10000
     },
     "inputWidgets": {},
     "nuid": "f6134e0b-fc0e-4162-91fd-b68ad0530191",
     "showTitle": false,
     "tableResultSettingsMap": {},
     "title": ""
    }
   },
   "outputs": [
    {
     "output_type": "display_data",
     "data": {
      "text/html": [
       "<style scoped>\n",
       "  .table-result-container {\n",
       "    max-height: 300px;\n",
       "    overflow: auto;\n",
       "  }\n",
       "  table, th, td {\n",
       "    border: 1px solid black;\n",
       "    border-collapse: collapse;\n",
       "  }\n",
       "  th, td {\n",
       "    padding: 5px;\n",
       "  }\n",
       "  th {\n",
       "    text-align: left;\n",
       "  }\n",
       "</style><div class='table-result-container'><table class='table-result'><thead style='background-color: white'><tr><th>Anime_ID</th><th>Anime_Name</th><th>Genre</th><th>Rating</th><th>Review</th></tr></thead><tbody><tr><td>1</td><td>Attack on Titan</td><td>Action</td><td>null</td><td>null</td></tr><tr><td>2</td><td>Death Note</td><td>Thriller</td><td>null</td><td>null</td></tr><tr><td>3</td><td>One Piece</td><td>Adventure</td><td>null</td><td>null</td></tr><tr><td>4</td><td>Naruto</td><td>Action</td><td>null</td><td>null</td></tr><tr><td>1</td><td>null</td><td>null</td><td>9.0</td><td>Highly Rated</td></tr><tr><td>2</td><td>null</td><td>null</td><td>9.5</td><td>Highly Rated</td></tr><tr><td>3</td><td>null</td><td>null</td><td>8.8</td><td>Popular</td></tr><tr><td>5</td><td>null</td><td>null</td><td>7.5</td><td>Average</td></tr></tbody></table></div>"
      ]
     },
     "metadata": {
      "application/vnd.databricks.v1+output": {
       "addedWidgets": {},
       "aggData": [],
       "aggError": "",
       "aggOverflow": false,
       "aggSchema": [],
       "aggSeriesLimitReached": false,
       "aggType": "",
       "arguments": {},
       "columnCustomDisplayInfos": {},
       "data": [
        [
         1,
         "Attack on Titan",
         "Action",
         null,
         null
        ],
        [
         2,
         "Death Note",
         "Thriller",
         null,
         null
        ],
        [
         3,
         "One Piece",
         "Adventure",
         null,
         null
        ],
        [
         4,
         "Naruto",
         "Action",
         null,
         null
        ],
        [
         1,
         null,
         null,
         9.0,
         "Highly Rated"
        ],
        [
         2,
         null,
         null,
         9.5,
         "Highly Rated"
        ],
        [
         3,
         null,
         null,
         8.8,
         "Popular"
        ],
        [
         5,
         null,
         null,
         7.5,
         "Average"
        ]
       ],
       "datasetInfos": [],
       "dbfsResultPath": null,
       "isJsonSchema": true,
       "metadata": {},
       "overflow": false,
       "plotOptions": {
        "customPlotOptions": {},
        "displayType": "table",
        "pivotAggregation": null,
        "pivotColumns": null,
        "xColumns": null,
        "yColumns": null
       },
       "removedWidgets": [],
       "schema": [
        {
         "metadata": "{}",
         "name": "Anime_ID",
         "type": "\"long\""
        },
        {
         "metadata": "{}",
         "name": "Anime_Name",
         "type": "\"string\""
        },
        {
         "metadata": "{}",
         "name": "Genre",
         "type": "\"string\""
        },
        {
         "metadata": "{}",
         "name": "Rating",
         "type": "\"double\""
        },
        {
         "metadata": "{}",
         "name": "Review",
         "type": "\"string\""
        }
       ],
       "type": "table"
      }
     },
     "output_type": "display_data"
    }
   ],
   "source": [
    "merged_df = df1.unionByName(df2, allowMissingColumns=True)\n",
    "display(merged_df)"
   ]
  },
  {
   "cell_type": "markdown",
   "metadata": {
    "application/vnd.databricks.v1+cell": {
     "cellMetadata": {},
     "inputWidgets": {},
     "nuid": "a2a138d6-6ca2-482f-ac6c-ec08d411e7fc",
     "showTitle": false,
     "tableResultSettingsMap": {},
     "title": ""
    }
   },
   "source": [
    ">Cross Join (Cartesian Product)"
   ]
  },
  {
   "cell_type": "code",
   "execution_count": 0,
   "metadata": {
    "application/vnd.databricks.v1+cell": {
     "cellMetadata": {
      "byteLimit": 2048000,
      "rowLimit": 10000
     },
     "inputWidgets": {},
     "nuid": "fdef130e-659a-4122-b02a-e6adb3b6b780",
     "showTitle": false,
     "tableResultSettingsMap": {},
     "title": ""
    }
   },
   "outputs": [
    {
     "output_type": "display_data",
     "data": {
      "text/html": [
       "<style scoped>\n",
       "  .table-result-container {\n",
       "    max-height: 300px;\n",
       "    overflow: auto;\n",
       "  }\n",
       "  table, th, td {\n",
       "    border: 1px solid black;\n",
       "    border-collapse: collapse;\n",
       "  }\n",
       "  th, td {\n",
       "    padding: 5px;\n",
       "  }\n",
       "  th {\n",
       "    text-align: left;\n",
       "  }\n",
       "</style><div class='table-result-container'><table class='table-result'><thead style='background-color: white'><tr><th>Anime_ID</th><th>Anime_Name</th><th>Genre</th><th>Anime_ID</th><th>Rating</th><th>Review</th></tr></thead><tbody><tr><td>1</td><td>Attack on Titan</td><td>Action</td><td>1</td><td>9.0</td><td>Highly Rated</td></tr><tr><td>1</td><td>Attack on Titan</td><td>Action</td><td>2</td><td>9.5</td><td>Highly Rated</td></tr><tr><td>1</td><td>Attack on Titan</td><td>Action</td><td>3</td><td>8.8</td><td>Popular</td></tr><tr><td>1</td><td>Attack on Titan</td><td>Action</td><td>5</td><td>7.5</td><td>Average</td></tr><tr><td>2</td><td>Death Note</td><td>Thriller</td><td>1</td><td>9.0</td><td>Highly Rated</td></tr><tr><td>2</td><td>Death Note</td><td>Thriller</td><td>2</td><td>9.5</td><td>Highly Rated</td></tr><tr><td>2</td><td>Death Note</td><td>Thriller</td><td>3</td><td>8.8</td><td>Popular</td></tr><tr><td>2</td><td>Death Note</td><td>Thriller</td><td>5</td><td>7.5</td><td>Average</td></tr><tr><td>3</td><td>One Piece</td><td>Adventure</td><td>1</td><td>9.0</td><td>Highly Rated</td></tr><tr><td>3</td><td>One Piece</td><td>Adventure</td><td>2</td><td>9.5</td><td>Highly Rated</td></tr><tr><td>3</td><td>One Piece</td><td>Adventure</td><td>3</td><td>8.8</td><td>Popular</td></tr><tr><td>3</td><td>One Piece</td><td>Adventure</td><td>5</td><td>7.5</td><td>Average</td></tr><tr><td>4</td><td>Naruto</td><td>Action</td><td>1</td><td>9.0</td><td>Highly Rated</td></tr><tr><td>4</td><td>Naruto</td><td>Action</td><td>2</td><td>9.5</td><td>Highly Rated</td></tr><tr><td>4</td><td>Naruto</td><td>Action</td><td>3</td><td>8.8</td><td>Popular</td></tr><tr><td>4</td><td>Naruto</td><td>Action</td><td>5</td><td>7.5</td><td>Average</td></tr></tbody></table></div>"
      ]
     },
     "metadata": {
      "application/vnd.databricks.v1+output": {
       "addedWidgets": {},
       "aggData": [],
       "aggError": "",
       "aggOverflow": false,
       "aggSchema": [],
       "aggSeriesLimitReached": false,
       "aggType": "",
       "arguments": {},
       "columnCustomDisplayInfos": {},
       "data": [
        [
         1,
         "Attack on Titan",
         "Action",
         1,
         9.0,
         "Highly Rated"
        ],
        [
         1,
         "Attack on Titan",
         "Action",
         2,
         9.5,
         "Highly Rated"
        ],
        [
         1,
         "Attack on Titan",
         "Action",
         3,
         8.8,
         "Popular"
        ],
        [
         1,
         "Attack on Titan",
         "Action",
         5,
         7.5,
         "Average"
        ],
        [
         2,
         "Death Note",
         "Thriller",
         1,
         9.0,
         "Highly Rated"
        ],
        [
         2,
         "Death Note",
         "Thriller",
         2,
         9.5,
         "Highly Rated"
        ],
        [
         2,
         "Death Note",
         "Thriller",
         3,
         8.8,
         "Popular"
        ],
        [
         2,
         "Death Note",
         "Thriller",
         5,
         7.5,
         "Average"
        ],
        [
         3,
         "One Piece",
         "Adventure",
         1,
         9.0,
         "Highly Rated"
        ],
        [
         3,
         "One Piece",
         "Adventure",
         2,
         9.5,
         "Highly Rated"
        ],
        [
         3,
         "One Piece",
         "Adventure",
         3,
         8.8,
         "Popular"
        ],
        [
         3,
         "One Piece",
         "Adventure",
         5,
         7.5,
         "Average"
        ],
        [
         4,
         "Naruto",
         "Action",
         1,
         9.0,
         "Highly Rated"
        ],
        [
         4,
         "Naruto",
         "Action",
         2,
         9.5,
         "Highly Rated"
        ],
        [
         4,
         "Naruto",
         "Action",
         3,
         8.8,
         "Popular"
        ],
        [
         4,
         "Naruto",
         "Action",
         5,
         7.5,
         "Average"
        ]
       ],
       "datasetInfos": [],
       "dbfsResultPath": null,
       "isJsonSchema": true,
       "metadata": {},
       "overflow": false,
       "plotOptions": {
        "customPlotOptions": {},
        "displayType": "table",
        "pivotAggregation": null,
        "pivotColumns": null,
        "xColumns": null,
        "yColumns": null
       },
       "removedWidgets": [],
       "schema": [
        {
         "metadata": "{}",
         "name": "Anime_ID",
         "type": "\"long\""
        },
        {
         "metadata": "{}",
         "name": "Anime_Name",
         "type": "\"string\""
        },
        {
         "metadata": "{}",
         "name": "Genre",
         "type": "\"string\""
        },
        {
         "metadata": "{}",
         "name": "Anime_ID",
         "type": "\"long\""
        },
        {
         "metadata": "{}",
         "name": "Rating",
         "type": "\"double\""
        },
        {
         "metadata": "{}",
         "name": "Review",
         "type": "\"string\""
        }
       ],
       "type": "table"
      }
     },
     "output_type": "display_data"
    }
   ],
   "source": [
    "cross_join = df1.crossJoin(df2)\n",
    "display(cross_join)\n"
   ]
  },
  {
   "cell_type": "markdown",
   "metadata": {
    "application/vnd.databricks.v1+cell": {
     "cellMetadata": {},
     "inputWidgets": {},
     "nuid": "cbb68c9d-bff5-4d10-aeb9-02baa3d2dc89",
     "showTitle": false,
     "tableResultSettingsMap": {},
     "title": ""
    }
   },
   "source": [
    ">Self Join"
   ]
  },
  {
   "cell_type": "code",
   "execution_count": 0,
   "metadata": {
    "application/vnd.databricks.v1+cell": {
     "cellMetadata": {
      "byteLimit": 2048000,
      "rowLimit": 10000
     },
     "inputWidgets": {},
     "nuid": "afca154a-8f2d-49ef-a744-f95a4eec6200",
     "showTitle": false,
     "tableResultSettingsMap": {},
     "title": ""
    }
   },
   "outputs": [
    {
     "output_type": "display_data",
     "data": {
      "text/html": [
       "<style scoped>\n",
       "  .table-result-container {\n",
       "    max-height: 300px;\n",
       "    overflow: auto;\n",
       "  }\n",
       "  table, th, td {\n",
       "    border: 1px solid black;\n",
       "    border-collapse: collapse;\n",
       "  }\n",
       "  th, td {\n",
       "    padding: 5px;\n",
       "  }\n",
       "  th {\n",
       "    text-align: left;\n",
       "  }\n",
       "</style><div class='table-result-container'><table class='table-result'><thead style='background-color: white'><tr><th>Anime_ID</th><th>Anime_Name</th><th>Genre</th><th>Anime_ID</th><th>Anime_Name</th><th>Genre</th></tr></thead><tbody><tr><td>1</td><td>Attack on Titan</td><td>Action</td><td>1</td><td>Attack on Titan</td><td>Action</td></tr><tr><td>1</td><td>Attack on Titan</td><td>Action</td><td>4</td><td>Naruto</td><td>Action</td></tr><tr><td>4</td><td>Naruto</td><td>Action</td><td>1</td><td>Attack on Titan</td><td>Action</td></tr><tr><td>4</td><td>Naruto</td><td>Action</td><td>4</td><td>Naruto</td><td>Action</td></tr><tr><td>3</td><td>One Piece</td><td>Adventure</td><td>3</td><td>One Piece</td><td>Adventure</td></tr><tr><td>2</td><td>Death Note</td><td>Thriller</td><td>2</td><td>Death Note</td><td>Thriller</td></tr></tbody></table></div>"
      ]
     },
     "metadata": {
      "application/vnd.databricks.v1+output": {
       "addedWidgets": {},
       "aggData": [],
       "aggError": "",
       "aggOverflow": false,
       "aggSchema": [],
       "aggSeriesLimitReached": false,
       "aggType": "",
       "arguments": {},
       "columnCustomDisplayInfos": {},
       "data": [
        [
         1,
         "Attack on Titan",
         "Action",
         1,
         "Attack on Titan",
         "Action"
        ],
        [
         1,
         "Attack on Titan",
         "Action",
         4,
         "Naruto",
         "Action"
        ],
        [
         4,
         "Naruto",
         "Action",
         1,
         "Attack on Titan",
         "Action"
        ],
        [
         4,
         "Naruto",
         "Action",
         4,
         "Naruto",
         "Action"
        ],
        [
         3,
         "One Piece",
         "Adventure",
         3,
         "One Piece",
         "Adventure"
        ],
        [
         2,
         "Death Note",
         "Thriller",
         2,
         "Death Note",
         "Thriller"
        ]
       ],
       "datasetInfos": [],
       "dbfsResultPath": null,
       "isJsonSchema": true,
       "metadata": {},
       "overflow": false,
       "plotOptions": {
        "customPlotOptions": {},
        "displayType": "table",
        "pivotAggregation": null,
        "pivotColumns": null,
        "xColumns": null,
        "yColumns": null
       },
       "removedWidgets": [],
       "schema": [
        {
         "metadata": "{}",
         "name": "Anime_ID",
         "type": "\"long\""
        },
        {
         "metadata": "{}",
         "name": "Anime_Name",
         "type": "\"string\""
        },
        {
         "metadata": "{}",
         "name": "Genre",
         "type": "\"string\""
        },
        {
         "metadata": "{}",
         "name": "Anime_ID",
         "type": "\"long\""
        },
        {
         "metadata": "{}",
         "name": "Anime_Name",
         "type": "\"string\""
        },
        {
         "metadata": "{}",
         "name": "Genre",
         "type": "\"string\""
        }
       ],
       "type": "table"
      }
     },
     "output_type": "display_data"
    }
   ],
   "source": [
    "self_join = df1.alias(\"A\").join(df1.alias(\"B\"), col(\"A.Genre\") == col(\"B.Genre\"), \"inner\")\n",
    "display(self_join)"
   ]
  },
  {
   "cell_type": "markdown",
   "metadata": {
    "application/vnd.databricks.v1+cell": {
     "cellMetadata": {},
     "inputWidgets": {},
     "nuid": "844a8605-d790-49c5-bca8-d9ca4c6a22ae",
     "showTitle": false,
     "tableResultSettingsMap": {},
     "title": ""
    }
   },
   "source": [
    ">Union (Combining DataFrames)"
   ]
  },
  {
   "cell_type": "code",
   "execution_count": 0,
   "metadata": {
    "application/vnd.databricks.v1+cell": {
     "cellMetadata": {
      "byteLimit": 2048000,
      "rowLimit": 10000
     },
     "inputWidgets": {},
     "nuid": "2d840832-af82-45b7-80c6-361ce2b22843",
     "showTitle": false,
     "tableResultSettingsMap": {},
     "title": ""
    }
   },
   "outputs": [
    {
     "output_type": "display_data",
     "data": {
      "text/html": [
       "<style scoped>\n",
       "  .table-result-container {\n",
       "    max-height: 300px;\n",
       "    overflow: auto;\n",
       "  }\n",
       "  table, th, td {\n",
       "    border: 1px solid black;\n",
       "    border-collapse: collapse;\n",
       "  }\n",
       "  th, td {\n",
       "    padding: 5px;\n",
       "  }\n",
       "  th {\n",
       "    text-align: left;\n",
       "  }\n",
       "</style><div class='table-result-container'><table class='table-result'><thead style='background-color: white'><tr><th>Anime_ID</th><th>Anime_Name</th><th>Genre</th></tr></thead><tbody><tr><td>1</td><td>Attack on Titan</td><td>Action</td></tr><tr><td>2</td><td>Death Note</td><td>Thriller</td></tr><tr><td>3</td><td>One Piece</td><td>Adventure</td></tr><tr><td>4</td><td>Naruto</td><td>Action</td></tr><tr><td>1</td><td>Attack on Titan</td><td>Action</td></tr><tr><td>2</td><td>Death Note</td><td>Thriller</td></tr><tr><td>3</td><td>One Piece</td><td>Adventure</td></tr><tr><td>4</td><td>Naruto</td><td>Action</td></tr></tbody></table></div>"
      ]
     },
     "metadata": {
      "application/vnd.databricks.v1+output": {
       "addedWidgets": {},
       "aggData": [],
       "aggError": "",
       "aggOverflow": false,
       "aggSchema": [],
       "aggSeriesLimitReached": false,
       "aggType": "",
       "arguments": {},
       "columnCustomDisplayInfos": {},
       "data": [
        [
         1,
         "Attack on Titan",
         "Action"
        ],
        [
         2,
         "Death Note",
         "Thriller"
        ],
        [
         3,
         "One Piece",
         "Adventure"
        ],
        [
         4,
         "Naruto",
         "Action"
        ],
        [
         1,
         "Attack on Titan",
         "Action"
        ],
        [
         2,
         "Death Note",
         "Thriller"
        ],
        [
         3,
         "One Piece",
         "Adventure"
        ],
        [
         4,
         "Naruto",
         "Action"
        ]
       ],
       "datasetInfos": [],
       "dbfsResultPath": null,
       "isJsonSchema": true,
       "metadata": {},
       "overflow": false,
       "plotOptions": {
        "customPlotOptions": {},
        "displayType": "table",
        "pivotAggregation": null,
        "pivotColumns": null,
        "xColumns": null,
        "yColumns": null
       },
       "removedWidgets": [],
       "schema": [
        {
         "metadata": "{}",
         "name": "Anime_ID",
         "type": "\"long\""
        },
        {
         "metadata": "{}",
         "name": "Anime_Name",
         "type": "\"string\""
        },
        {
         "metadata": "{}",
         "name": "Genre",
         "type": "\"string\""
        }
       ],
       "type": "table"
      }
     },
     "output_type": "display_data"
    }
   ],
   "source": [
    "union_df = df1.union(df1)  \n",
    "display(union_df)\n"
   ]
  },
  {
   "cell_type": "code",
   "execution_count": 0,
   "metadata": {
    "application/vnd.databricks.v1+cell": {
     "cellMetadata": {
      "byteLimit": 2048000,
      "rowLimit": 10000
     },
     "inputWidgets": {},
     "nuid": "bc9c0d91-ab4a-4146-b36b-cf893937e248",
     "showTitle": false,
     "tableResultSettingsMap": {},
     "title": ""
    }
   },
   "outputs": [
    {
     "output_type": "display_data",
     "data": {
      "text/html": [
       "<style scoped>\n",
       "  .table-result-container {\n",
       "    max-height: 300px;\n",
       "    overflow: auto;\n",
       "  }\n",
       "  table, th, td {\n",
       "    border: 1px solid black;\n",
       "    border-collapse: collapse;\n",
       "  }\n",
       "  th, td {\n",
       "    padding: 5px;\n",
       "  }\n",
       "  th {\n",
       "    text-align: left;\n",
       "  }\n",
       "</style><div class='table-result-container'><table class='table-result'><thead style='background-color: white'><tr><th>Anime_ID</th><th>Anime_Name</th><th>Genre</th><th>Rating</th><th>Review</th></tr></thead><tbody><tr><td>1</td><td>Attack on Titan</td><td>Action</td><td>null</td><td>null</td></tr><tr><td>2</td><td>Death Note</td><td>Thriller</td><td>null</td><td>null</td></tr><tr><td>3</td><td>One Piece</td><td>Adventure</td><td>null</td><td>null</td></tr><tr><td>4</td><td>Naruto</td><td>Action</td><td>null</td><td>null</td></tr><tr><td>1</td><td>null</td><td>null</td><td>9.0</td><td>Highly Rated</td></tr><tr><td>2</td><td>null</td><td>null</td><td>9.5</td><td>Highly Rated</td></tr><tr><td>3</td><td>null</td><td>null</td><td>8.8</td><td>Popular</td></tr><tr><td>5</td><td>null</td><td>null</td><td>7.5</td><td>Average</td></tr></tbody></table></div>"
      ]
     },
     "metadata": {
      "application/vnd.databricks.v1+output": {
       "addedWidgets": {},
       "aggData": [],
       "aggError": "",
       "aggOverflow": false,
       "aggSchema": [],
       "aggSeriesLimitReached": false,
       "aggType": "",
       "arguments": {},
       "columnCustomDisplayInfos": {},
       "data": [
        [
         1,
         "Attack on Titan",
         "Action",
         null,
         null
        ],
        [
         2,
         "Death Note",
         "Thriller",
         null,
         null
        ],
        [
         3,
         "One Piece",
         "Adventure",
         null,
         null
        ],
        [
         4,
         "Naruto",
         "Action",
         null,
         null
        ],
        [
         1,
         null,
         null,
         9.0,
         "Highly Rated"
        ],
        [
         2,
         null,
         null,
         9.5,
         "Highly Rated"
        ],
        [
         3,
         null,
         null,
         8.8,
         "Popular"
        ],
        [
         5,
         null,
         null,
         7.5,
         "Average"
        ]
       ],
       "datasetInfos": [],
       "dbfsResultPath": null,
       "isJsonSchema": true,
       "metadata": {},
       "overflow": false,
       "plotOptions": {
        "customPlotOptions": {},
        "displayType": "table",
        "pivotAggregation": null,
        "pivotColumns": null,
        "xColumns": null,
        "yColumns": null
       },
       "removedWidgets": [],
       "schema": [
        {
         "metadata": "{}",
         "name": "Anime_ID",
         "type": "\"long\""
        },
        {
         "metadata": "{}",
         "name": "Anime_Name",
         "type": "\"string\""
        },
        {
         "metadata": "{}",
         "name": "Genre",
         "type": "\"string\""
        },
        {
         "metadata": "{}",
         "name": "Rating",
         "type": "\"double\""
        },
        {
         "metadata": "{}",
         "name": "Review",
         "type": "\"string\""
        }
       ],
       "type": "table"
      }
     },
     "output_type": "display_data"
    }
   ],
   "source": [
    "union_df = df1.unionByName(df2, allowMissingColumns=True)\n",
    "display(union_df)"
   ]
  },
  {
   "cell_type": "code",
   "execution_count": 0,
   "metadata": {
    "application/vnd.databricks.v1+cell": {
     "cellMetadata": {
      "byteLimit": 2048000,
      "rowLimit": 10000
     },
     "inputWidgets": {},
     "nuid": "42712443-b348-4fcd-8738-245bee19b85e",
     "showTitle": false,
     "tableResultSettingsMap": {},
     "title": ""
    }
   },
   "outputs": [
    {
     "output_type": "display_data",
     "data": {
      "text/html": [
       "<style scoped>\n",
       "  .table-result-container {\n",
       "    max-height: 300px;\n",
       "    overflow: auto;\n",
       "  }\n",
       "  table, th, td {\n",
       "    border: 1px solid black;\n",
       "    border-collapse: collapse;\n",
       "  }\n",
       "  th, td {\n",
       "    padding: 5px;\n",
       "  }\n",
       "  th {\n",
       "    text-align: left;\n",
       "  }\n",
       "</style><div class='table-result-container'><table class='table-result'><thead style='background-color: white'><tr><th>Anime_ID</th><th>Anime_Name</th><th>Genre</th></tr></thead><tbody><tr><td>1</td><td>Attack on Titan</td><td>Action</td></tr><tr><td>2</td><td>Death Note</td><td>Thriller</td></tr><tr><td>3</td><td>One Piece</td><td>Adventure</td></tr><tr><td>4</td><td>Naruto</td><td>Action</td></tr><tr><td>1</td><td>9.0</td><td>Highly Rated</td></tr><tr><td>2</td><td>9.5</td><td>Highly Rated</td></tr><tr><td>3</td><td>8.8</td><td>Popular</td></tr><tr><td>5</td><td>7.5</td><td>Average</td></tr></tbody></table></div>"
      ]
     },
     "metadata": {
      "application/vnd.databricks.v1+output": {
       "addedWidgets": {},
       "aggData": [],
       "aggError": "",
       "aggOverflow": false,
       "aggSchema": [],
       "aggSeriesLimitReached": false,
       "aggType": "",
       "arguments": {},
       "columnCustomDisplayInfos": {},
       "data": [
        [
         1,
         "Attack on Titan",
         "Action"
        ],
        [
         2,
         "Death Note",
         "Thriller"
        ],
        [
         3,
         "One Piece",
         "Adventure"
        ],
        [
         4,
         "Naruto",
         "Action"
        ],
        [
         1,
         "9.0",
         "Highly Rated"
        ],
        [
         2,
         "9.5",
         "Highly Rated"
        ],
        [
         3,
         "8.8",
         "Popular"
        ],
        [
         5,
         "7.5",
         "Average"
        ]
       ],
       "datasetInfos": [],
       "dbfsResultPath": null,
       "isJsonSchema": true,
       "metadata": {},
       "overflow": false,
       "plotOptions": {
        "customPlotOptions": {},
        "displayType": "table",
        "pivotAggregation": null,
        "pivotColumns": null,
        "xColumns": null,
        "yColumns": null
       },
       "removedWidgets": [],
       "schema": [
        {
         "metadata": "{}",
         "name": "Anime_ID",
         "type": "\"long\""
        },
        {
         "metadata": "{}",
         "name": "Anime_Name",
         "type": "\"string\""
        },
        {
         "metadata": "{}",
         "name": "Genre",
         "type": "\"string\""
        }
       ],
       "type": "table"
      }
     },
     "output_type": "display_data"
    }
   ],
   "source": [
    "union_df = df1.union(df2).distinct()\n",
    "display(union_df)"
   ]
  },
  {
   "cell_type": "markdown",
   "metadata": {
    "application/vnd.databricks.v1+cell": {
     "cellMetadata": {},
     "inputWidgets": {},
     "nuid": "b0a625e3-f107-4ccc-a305-d395cb8f4301",
     "showTitle": false,
     "tableResultSettingsMap": {},
     "title": ""
    }
   },
   "source": [
    ">Set Difference\n"
   ]
  },
  {
   "cell_type": "code",
   "execution_count": 0,
   "metadata": {
    "application/vnd.databricks.v1+cell": {
     "cellMetadata": {
      "byteLimit": 2048000,
      "rowLimit": 10000
     },
     "inputWidgets": {},
     "nuid": "5a806e03-7ad1-4515-9ee4-a0bcf74de4df",
     "showTitle": false,
     "tableResultSettingsMap": {},
     "title": ""
    }
   },
   "outputs": [
    {
     "output_type": "display_data",
     "data": {
      "text/html": [
       "<style scoped>\n",
       "  .table-result-container {\n",
       "    max-height: 300px;\n",
       "    overflow: auto;\n",
       "  }\n",
       "  table, th, td {\n",
       "    border: 1px solid black;\n",
       "    border-collapse: collapse;\n",
       "  }\n",
       "  th, td {\n",
       "    padding: 5px;\n",
       "  }\n",
       "  th {\n",
       "    text-align: left;\n",
       "  }\n",
       "</style><div class='table-result-container'><table class='table-result'><thead style='background-color: white'><tr><th>Anime_ID</th><th>Anime_Name</th><th>Genre</th></tr></thead><tbody><tr><td>1</td><td>Attack on Titan</td><td>Action</td></tr><tr><td>2</td><td>Death Note</td><td>Thriller</td></tr><tr><td>3</td><td>One Piece</td><td>Adventure</td></tr><tr><td>4</td><td>Naruto</td><td>Action</td></tr></tbody></table></div>"
      ]
     },
     "metadata": {
      "application/vnd.databricks.v1+output": {
       "addedWidgets": {},
       "aggData": [],
       "aggError": "",
       "aggOverflow": false,
       "aggSchema": [],
       "aggSeriesLimitReached": false,
       "aggType": "",
       "arguments": {},
       "columnCustomDisplayInfos": {},
       "data": [
        [
         1,
         "Attack on Titan",
         "Action"
        ],
        [
         2,
         "Death Note",
         "Thriller"
        ],
        [
         3,
         "One Piece",
         "Adventure"
        ],
        [
         4,
         "Naruto",
         "Action"
        ]
       ],
       "datasetInfos": [],
       "dbfsResultPath": null,
       "isJsonSchema": true,
       "metadata": {},
       "overflow": false,
       "plotOptions": {
        "customPlotOptions": {},
        "displayType": "table",
        "pivotAggregation": null,
        "pivotColumns": null,
        "xColumns": null,
        "yColumns": null
       },
       "removedWidgets": [],
       "schema": [
        {
         "metadata": "{}",
         "name": "Anime_ID",
         "type": "\"long\""
        },
        {
         "metadata": "{}",
         "name": "Anime_Name",
         "type": "\"string\""
        },
        {
         "metadata": "{}",
         "name": "Genre",
         "type": "\"string\""
        }
       ],
       "type": "table"
      }
     },
     "output_type": "display_data"
    }
   ],
   "source": [
    "difference_df1 = df1.subtract(df2)\n",
    "display(difference_df1)"
   ]
  }
 ],
 "metadata": {
  "application/vnd.databricks.v1+notebook": {
   "computePreferences": null,
   "dashboards": [],
   "environmentMetadata": {
    "base_environment": "",
    "client": "1"
   },
   "language": "python",
   "notebookMetadata": {
    "pythonIndentUnit": 4
   },
   "notebookName": "Merge and Joins",
   "widgets": {}
  }
 },
 "nbformat": 4,
 "nbformat_minor": 0
}

{
 "cells": [
  {
   "cell_type": "markdown",
   "metadata": {
    "application/vnd.databricks.v1+cell": {
     "cellMetadata": {},
     "inputWidgets": {},
     "nuid": "7aa1f385-af7a-4000-87ad-660ea8c047d3",
     "showTitle": false,
     "tableResultSettingsMap": {},
     "title": ""
    }
   },
   "source": [
    "### USER-DEFINED FUNCTIONS(UDF)"
   ]
  },
  {
   "cell_type": "code",
   "execution_count": 0,
   "metadata": {
    "application/vnd.databricks.v1+cell": {
     "cellMetadata": {
      "byteLimit": 2048000,
      "rowLimit": 10000
     },
     "inputWidgets": {},
     "nuid": "719b6164-eeba-4f3c-a757-b6d8344e59bb",
     "showTitle": false,
     "tableResultSettingsMap": {},
     "title": ""
    }
   },
   "outputs": [],
   "source": [
    "from pyspark.sql import SparkSession\n",
    "from pyspark.sql.functions import udf\n",
    "from pyspark.sql.types import *\n",
    "from pyspark.sql.functions import *\n",
    "#import pyspark.sql.functions as F"
   ]
  },
  {
   "cell_type": "code",
   "execution_count": 0,
   "metadata": {
    "application/vnd.databricks.v1+cell": {
     "cellMetadata": {
      "byteLimit": 2048000,
      "rowLimit": 10000
     },
     "inputWidgets": {},
     "nuid": "14aaeac1-b0fd-43f9-9dbb-eec24007c9a3",
     "showTitle": false,
     "tableResultSettingsMap": {},
     "title": ""
    }
   },
   "outputs": [
    {
     "output_type": "display_data",
     "data": {
      "text/html": [
       "<style scoped>\n",
       "  .table-result-container {\n",
       "    max-height: 300px;\n",
       "    overflow: auto;\n",
       "  }\n",
       "  table, th, td {\n",
       "    border: 1px solid black;\n",
       "    border-collapse: collapse;\n",
       "  }\n",
       "  th, td {\n",
       "    padding: 5px;\n",
       "  }\n",
       "  th {\n",
       "    text-align: left;\n",
       "  }\n",
       "</style><div class='table-result-container'><table class='table-result'><thead style='background-color: white'><tr><th>name</th><th>age</th></tr></thead><tbody><tr><td>Alice</td><td>10</td></tr><tr><td>Bob</td><td>20</td></tr><tr><td>Charlie</td><td>30</td></tr></tbody></table></div>"
      ]
     },
     "metadata": {
      "application/vnd.databricks.v1+output": {
       "addedWidgets": {},
       "aggData": [],
       "aggError": "",
       "aggOverflow": false,
       "aggSchema": [],
       "aggSeriesLimitReached": false,
       "aggType": "",
       "arguments": {},
       "columnCustomDisplayInfos": {},
       "data": [
        [
         "Alice",
         10
        ],
        [
         "Bob",
         20
        ],
        [
         "Charlie",
         30
        ]
       ],
       "datasetInfos": [],
       "dbfsResultPath": null,
       "isJsonSchema": true,
       "metadata": {},
       "overflow": false,
       "plotOptions": {
        "customPlotOptions": {},
        "displayType": "table",
        "pivotAggregation": null,
        "pivotColumns": null,
        "xColumns": null,
        "yColumns": null
       },
       "removedWidgets": [],
       "schema": [
        {
         "metadata": "{}",
         "name": "name",
         "type": "\"string\""
        },
        {
         "metadata": "{}",
         "name": "age",
         "type": "\"long\""
        }
       ],
       "type": "table"
      }
     },
     "output_type": "display_data"
    }
   ],
   "source": [
    "data = [(\"Alice\", 10), (\"Bob\", 20), (\"Charlie\", 30)]\n",
    "\n",
    "df = spark.createDataFrame(data, [\"name\", \"age\"])\n",
    "\n",
    "display(df)"
   ]
  },
  {
   "cell_type": "code",
   "execution_count": 0,
   "metadata": {
    "application/vnd.databricks.v1+cell": {
     "cellMetadata": {
      "byteLimit": 2048000,
      "rowLimit": 10000
     },
     "inputWidgets": {},
     "nuid": "0504aea6-d85c-44ac-a62c-43cd6d28b44c",
     "showTitle": false,
     "tableResultSettingsMap": {},
     "title": ""
    }
   },
   "outputs": [
    {
     "output_type": "display_data",
     "data": {
      "text/html": [
       "<style scoped>\n",
       "  .table-result-container {\n",
       "    max-height: 300px;\n",
       "    overflow: auto;\n",
       "  }\n",
       "  table, th, td {\n",
       "    border: 1px solid black;\n",
       "    border-collapse: collapse;\n",
       "  }\n",
       "  th, td {\n",
       "    padding: 5px;\n",
       "  }\n",
       "  th {\n",
       "    text-align: left;\n",
       "  }\n",
       "</style><div class='table-result-container'><table class='table-result'><thead style='background-color: white'><tr><th>name</th><th>age</th><th>new_age</th></tr></thead><tbody><tr><td>Alice</td><td>10</td><td>15</td></tr><tr><td>Bob</td><td>20</td><td>25</td></tr><tr><td>Charlie</td><td>30</td><td>35</td></tr></tbody></table></div>"
      ]
     },
     "metadata": {
      "application/vnd.databricks.v1+output": {
       "addedWidgets": {},
       "aggData": [],
       "aggError": "",
       "aggOverflow": false,
       "aggSchema": [],
       "aggSeriesLimitReached": false,
       "aggType": "",
       "arguments": {},
       "columnCustomDisplayInfos": {},
       "data": [
        [
         "Alice",
         10,
         15
        ],
        [
         "Bob",
         20,
         25
        ],
        [
         "Charlie",
         30,
         35
        ]
       ],
       "datasetInfos": [],
       "dbfsResultPath": null,
       "isJsonSchema": true,
       "metadata": {},
       "overflow": false,
       "plotOptions": {
        "customPlotOptions": {},
        "displayType": "table",
        "pivotAggregation": null,
        "pivotColumns": null,
        "xColumns": null,
        "yColumns": null
       },
       "removedWidgets": [],
       "schema": [
        {
         "metadata": "{}",
         "name": "name",
         "type": "\"string\""
        },
        {
         "metadata": "{}",
         "name": "age",
         "type": "\"long\""
        },
        {
         "metadata": "{}",
         "name": "new_age",
         "type": "\"integer\""
        }
       ],
       "type": "table"
      }
     },
     "output_type": "display_data"
    }
   ],
   "source": [
    "try:\n",
    "    add_five_udf = udf(lambda x: x + 5, IntegerType())\n",
    "    df1 = df.withColumn(\"new_age\", add_five_udf(df[\"age\"]))\n",
    "    display(df1)\n",
    "\n",
    "except Exception as e:\n",
    "    print(f\"ERROR!:{e}\")"
   ]
  },
  {
   "cell_type": "code",
   "execution_count": 0,
   "metadata": {
    "application/vnd.databricks.v1+cell": {
     "cellMetadata": {
      "byteLimit": 2048000,
      "rowLimit": 10000
     },
     "inputWidgets": {},
     "nuid": "ff7c626e-6a8d-442c-87a2-922a76a33657",
     "showTitle": false,
     "tableResultSettingsMap": {},
     "title": ""
    }
   },
   "outputs": [
    {
     "output_type": "display_data",
     "data": {
      "text/html": [
       "<style scoped>\n",
       "  .table-result-container {\n",
       "    max-height: 300px;\n",
       "    overflow: auto;\n",
       "  }\n",
       "  table, th, td {\n",
       "    border: 1px solid black;\n",
       "    border-collapse: collapse;\n",
       "  }\n",
       "  th, td {\n",
       "    padding: 5px;\n",
       "  }\n",
       "  th {\n",
       "    text-align: left;\n",
       "  }\n",
       "</style><div class='table-result-container'><table class='table-result'><thead style='background-color: white'><tr><th>id</th><th>name</th><th>name_upper</th></tr></thead><tbody><tr><td>1</td><td>Alice</td><td>ALICE</td></tr><tr><td>2</td><td>Bob</td><td>BOB</td></tr><tr><td>3</td><td>Charlie</td><td>CHARLIE</td></tr></tbody></table></div>"
      ]
     },
     "metadata": {
      "application/vnd.databricks.v1+output": {
       "addedWidgets": {},
       "aggData": [],
       "aggError": "",
       "aggOverflow": false,
       "aggSchema": [],
       "aggSeriesLimitReached": false,
       "aggType": "",
       "arguments": {},
       "columnCustomDisplayInfos": {},
       "data": [
        [
         1,
         "Alice",
         "ALICE"
        ],
        [
         2,
         "Bob",
         "BOB"
        ],
        [
         3,
         "Charlie",
         "CHARLIE"
        ]
       ],
       "datasetInfos": [],
       "dbfsResultPath": null,
       "isJsonSchema": true,
       "metadata": {},
       "overflow": false,
       "plotOptions": {
        "customPlotOptions": {},
        "displayType": "table",
        "pivotAggregation": null,
        "pivotColumns": null,
        "xColumns": null,
        "yColumns": null
       },
       "removedWidgets": [],
       "schema": [
        {
         "metadata": "{}",
         "name": "id",
         "type": "\"long\""
        },
        {
         "metadata": "{}",
         "name": "name",
         "type": "\"string\""
        },
        {
         "metadata": "{}",
         "name": "name_upper",
         "type": "\"string\""
        }
       ],
       "type": "table"
      }
     },
     "output_type": "display_data"
    }
   ],
   "source": [
    "@udf(StringType())\n",
    "def upper_case(name):\n",
    "    return name.upper() if name else None\n",
    "\n",
    "\n",
    "data = [(1, \"Alice\"), (2, \"Bob\"), (3, \"Charlie\")]\n",
    "df = spark.createDataFrame(data, [\"id\", \"name\"])\n",
    "\n",
    "\n",
    "df = df.withColumn(\"name_upper\", upper_case(col(\"name\")))\n",
    "display(df)"
   ]
  },
  {
   "cell_type": "code",
   "execution_count": 0,
   "metadata": {
    "application/vnd.databricks.v1+cell": {
     "cellMetadata": {
      "byteLimit": 2048000,
      "rowLimit": 10000
     },
     "inputWidgets": {},
     "nuid": "ebf92591-ba3b-40be-b5bb-6de04103225f",
     "showTitle": false,
     "tableResultSettingsMap": {},
     "title": ""
    }
   },
   "outputs": [
    {
     "output_type": "display_data",
     "data": {
      "text/html": [
       "<style scoped>\n",
       "  .table-result-container {\n",
       "    max-height: 300px;\n",
       "    overflow: auto;\n",
       "  }\n",
       "  table, th, td {\n",
       "    border: 1px solid black;\n",
       "    border-collapse: collapse;\n",
       "  }\n",
       "  th, td {\n",
       "    padding: 5px;\n",
       "  }\n",
       "  th {\n",
       "    text-align: left;\n",
       "  }\n",
       "</style><div class='table-result-container'><table class='table-result'><thead style='background-color: white'><tr><th>Name</th><th>Height_cm</th><th>Weight_kg</th><th>BMI</th></tr></thead><tbody><tr><td>Alice</td><td>165.0</td><td>55.0</td><td>0.002020202</td></tr><tr><td>Bob</td><td>175.5</td><td>75.0</td><td>0.002435045</td></tr><tr><td>Charlie</td><td>180.2</td><td>82.5</td><td>0.0025406473</td></tr><tr><td>David</td><td>160.0</td><td>60.0</td><td>0.00234375</td></tr></tbody></table></div>"
      ]
     },
     "metadata": {
      "application/vnd.databricks.v1+output": {
       "addedWidgets": {},
       "aggData": [],
       "aggError": "",
       "aggOverflow": false,
       "aggSchema": [],
       "aggSeriesLimitReached": false,
       "aggType": "",
       "arguments": {},
       "columnCustomDisplayInfos": {},
       "data": [
        [
         "Alice",
         165.0,
         55.0,
         0.002020202
        ],
        [
         "Bob",
         175.5,
         75.0,
         0.002435045
        ],
        [
         "Charlie",
         180.2,
         82.5,
         0.0025406473
        ],
        [
         "David",
         160.0,
         60.0,
         0.00234375
        ]
       ],
       "datasetInfos": [],
       "dbfsResultPath": null,
       "isJsonSchema": true,
       "metadata": {},
       "overflow": false,
       "plotOptions": {
        "customPlotOptions": {},
        "displayType": "table",
        "pivotAggregation": null,
        "pivotColumns": null,
        "xColumns": null,
        "yColumns": null
       },
       "removedWidgets": [],
       "schema": [
        {
         "metadata": "{}",
         "name": "Name",
         "type": "\"string\""
        },
        {
         "metadata": "{}",
         "name": "Height_cm",
         "type": "\"float\""
        },
        {
         "metadata": "{}",
         "name": "Weight_kg",
         "type": "\"float\""
        },
        {
         "metadata": "{}",
         "name": "BMI",
         "type": "\"float\""
        }
       ],
       "type": "table"
      }
     },
     "output_type": "display_data"
    }
   ],
   "source": [
    "schema = StructType([\n",
    "    StructField(\"Name\", StringType(), True),\n",
    "    StructField(\"Height_cm\", FloatType(), True),\n",
    "    StructField(\"Weight_kg\", FloatType(), True)\n",
    "])\n",
    "\n",
    "data = [\n",
    "    (\"Alice\", 165.0, 55.0),\n",
    "    (\"Bob\", 175.5, 75.0),\n",
    "    (\"Charlie\", 180.2, 82.5),\n",
    "    (\"David\", 160.0, 60.0)\n",
    "]\n",
    "\n",
    "\n",
    "df = spark.createDataFrame(data, schema=schema)\n",
    "\n",
    "@udf(FloatType())\n",
    "def calculate_bmi(weight, height):\n",
    "    return weight / (height ** 2) if height else None\n",
    "\n",
    "df2 = df.withColumn(\"BMI\", calculate_bmi(col(\"Weight_kg\"), col(\"Height_cm\")))\n",
    "display(df2)"
   ]
  },
  {
   "cell_type": "code",
   "execution_count": 0,
   "metadata": {
    "application/vnd.databricks.v1+cell": {
     "cellMetadata": {
      "byteLimit": 2048000,
      "rowLimit": 10000
     },
     "inputWidgets": {},
     "nuid": "4df74adc-e36d-4628-b905-411d057138d8",
     "showTitle": false,
     "tableResultSettingsMap": {},
     "title": ""
    }
   },
   "outputs": [
    {
     "output_type": "display_data",
     "data": {
      "text/html": [
       "<style scoped>\n",
       "  .table-result-container {\n",
       "    max-height: 300px;\n",
       "    overflow: auto;\n",
       "  }\n",
       "  table, th, td {\n",
       "    border: 1px solid black;\n",
       "    border-collapse: collapse;\n",
       "  }\n",
       "  th, td {\n",
       "    padding: 5px;\n",
       "  }\n",
       "  th {\n",
       "    text-align: left;\n",
       "  }\n",
       "</style><div class='table-result-container'><table class='table-result'><thead style='background-color: white'><tr><th>Name</th><th>Height_cm</th><th>Weight_kg</th><th>BMI</th></tr></thead><tbody><tr><td>Alice</td><td>165.0</td><td>55.0</td><td>20.20202</td></tr><tr><td>Bob</td><td>175.5</td><td>75.0</td><td>24.350452</td></tr><tr><td>Charlie</td><td>180.2</td><td>82.5</td><td>25.406473</td></tr><tr><td>David</td><td>160.0</td><td>60.0</td><td>23.4375</td></tr></tbody></table></div>"
      ]
     },
     "metadata": {
      "application/vnd.databricks.v1+output": {
       "addedWidgets": {},
       "aggData": [],
       "aggError": "",
       "aggOverflow": false,
       "aggSchema": [],
       "aggSeriesLimitReached": false,
       "aggType": "",
       "arguments": {},
       "columnCustomDisplayInfos": {},
       "data": [
        [
         "Alice",
         165.0,
         55.0,
         20.20202
        ],
        [
         "Bob",
         175.5,
         75.0,
         24.350452
        ],
        [
         "Charlie",
         180.2,
         82.5,
         25.406473
        ],
        [
         "David",
         160.0,
         60.0,
         23.4375
        ]
       ],
       "datasetInfos": [],
       "dbfsResultPath": null,
       "isJsonSchema": true,
       "metadata": {},
       "overflow": false,
       "plotOptions": {
        "customPlotOptions": {},
        "displayType": "table",
        "pivotAggregation": null,
        "pivotColumns": null,
        "xColumns": null,
        "yColumns": null
       },
       "removedWidgets": [],
       "schema": [
        {
         "metadata": "{}",
         "name": "Name",
         "type": "\"string\""
        },
        {
         "metadata": "{}",
         "name": "Height_cm",
         "type": "\"float\""
        },
        {
         "metadata": "{}",
         "name": "Weight_kg",
         "type": "\"float\""
        },
        {
         "metadata": "{}",
         "name": "BMI",
         "type": "\"float\""
        }
       ],
       "type": "table"
      }
     },
     "output_type": "display_data"
    }
   ],
   "source": [
    "schema = StructType([\n",
    "    StructField(\"Name\", StringType(), True),\n",
    "    StructField(\"Height_cm\", FloatType(), True),\n",
    "    StructField(\"Weight_kg\", FloatType(), True)\n",
    "])\n",
    "\n",
    "\n",
    "data = [\n",
    "    (\"Alice\", 165.0, 55.0),\n",
    "    (\"Bob\", 175.5, 75.0),\n",
    "    (\"Charlie\", 180.2, 82.5),\n",
    "    (\"David\", 160.0, 60.0)\n",
    "]\n",
    "\n",
    "\n",
    "df = spark.createDataFrame(data, schema=schema)\n",
    "\n",
    "\n",
    "def calculate_bmi(weight, height_cm):\n",
    "    height_m = height_cm / 100 \n",
    "    return weight / (height_m ** 2) if height_m else None  \n",
    "\n",
    "\n",
    "spark.udf.register(\"calculate_bmi\", calculate_bmi, FloatType())\n",
    "\n",
    "\n",
    "df2 = df.withColumn(\"BMI\", expr(\"calculate_bmi(Weight_kg, Height_cm)\"))\n",
    "display(df2)\n"
   ]
  },
  {
   "cell_type": "markdown",
   "metadata": {
    "application/vnd.databricks.v1+cell": {
     "cellMetadata": {},
     "inputWidgets": {},
     "nuid": "259ed660-21f9-45ae-b7d9-1c81c2fa5729",
     "showTitle": false,
     "tableResultSettingsMap": {},
     "title": ""
    }
   },
   "source": [
    "### RESILIENT DISTRIBUTED DATASETS(RDD)"
   ]
  },
  {
   "cell_type": "code",
   "execution_count": 0,
   "metadata": {
    "application/vnd.databricks.v1+cell": {
     "cellMetadata": {
      "byteLimit": 2048000,
      "rowLimit": 10000
     },
     "inputWidgets": {},
     "nuid": "7645a490-3b97-44b5-8c10-ce562df65dca",
     "showTitle": false,
     "tableResultSettingsMap": {},
     "title": ""
    }
   },
   "outputs": [
    {
     "output_type": "stream",
     "name": "stdout",
     "output_type": "stream",
     "text": [
      "+-----+---+\n| name|age|\n+-----+---+\n|Alice| 25|\n|  Bob| 30|\n+-----+---+\n\n"
     ]
    }
   ],
   "source": [
    "from pyspark.sql import Row\n",
    "\n",
    "rdd = spark.sparkContext.parallelize([(\"Alice\", 25), (\"Bob\", 30)])\n",
    "df = rdd.map(lambda x: Row(name=x[0], age=x[1])).toDF()\n",
    "df.show()\n"
   ]
  },
  {
   "cell_type": "code",
   "execution_count": 0,
   "metadata": {
    "application/vnd.databricks.v1+cell": {
     "cellMetadata": {
      "byteLimit": 2048000,
      "rowLimit": 10000
     },
     "inputWidgets": {},
     "nuid": "dd3dd1d3-3b0f-4a78-a6bf-f28545687364",
     "showTitle": false,
     "tableResultSettingsMap": {},
     "title": ""
    }
   },
   "outputs": [
    {
     "output_type": "stream",
     "name": "stdout",
     "output_type": "stream",
     "text": [
      "<class 'pyspark.rdd.RDD'>\n"
     ]
    }
   ],
   "source": [
    "print(type(rdd))"
   ]
  },
  {
   "cell_type": "code",
   "execution_count": 0,
   "metadata": {
    "application/vnd.databricks.v1+cell": {
     "cellMetadata": {
      "byteLimit": 2048000,
      "rowLimit": 10000
     },
     "inputWidgets": {},
     "nuid": "e691b3de-ed69-4692-b142-a58ca7c7c942",
     "showTitle": false,
     "tableResultSettingsMap": {},
     "title": ""
    }
   },
   "outputs": [
    {
     "output_type": "stream",
     "name": "stdout",
     "output_type": "stream",
     "text": [
      "15\n"
     ]
    }
   ],
   "source": [
    "rdd = spark.sparkContext.parallelize([1, 2, 3, 4, 5])\n",
    "sum_rdd = rdd.reduce(lambda x, y: x + y)\n",
    "print(sum_rdd)  "
   ]
  },
  {
   "cell_type": "markdown",
   "metadata": {
    "application/vnd.databricks.v1+cell": {
     "cellMetadata": {},
     "inputWidgets": {},
     "nuid": "f5497eac-f5fc-4583-9a20-ae9b8a014fed",
     "showTitle": false,
     "tableResultSettingsMap": {},
     "title": ""
    }
   },
   "source": [
    ">parallelize - divides data into small block assigned to multiple node to process data at the same time."
   ]
  },
  {
   "cell_type": "code",
   "execution_count": 0,
   "metadata": {
    "application/vnd.databricks.v1+cell": {
     "cellMetadata": {
      "byteLimit": 2048000,
      "rowLimit": 10000
     },
     "inputWidgets": {},
     "nuid": "f48bd774-9cba-48a9-a75f-4d90abda4cbc",
     "showTitle": false,
     "tableResultSettingsMap": {},
     "title": ""
    }
   },
   "outputs": [
    {
     "output_type": "stream",
     "name": "stdout",
     "output_type": "stream",
     "text": [
      "ParallelCollectionRDD[84] at readRDDFromInputStream at PythonRDD.scala:435\n"
     ]
    }
   ],
   "source": [
    "rdd = spark.sparkContext.parallelize([1, 2, 3, 4, 5])\n",
    "print(rdd)"
   ]
  },
  {
   "cell_type": "code",
   "execution_count": 0,
   "metadata": {
    "application/vnd.databricks.v1+cell": {
     "cellMetadata": {
      "byteLimit": 2048000,
      "rowLimit": 10000
     },
     "inputWidgets": {},
     "nuid": "663c1c7d-85e4-4bc6-8eaa-3a4d62368778",
     "showTitle": false,
     "tableResultSettingsMap": {},
     "title": ""
    }
   },
   "outputs": [
    {
     "output_type": "display_data",
     "data": {
      "text/html": [
       "<style scoped>\n",
       "  .table-result-container {\n",
       "    max-height: 300px;\n",
       "    overflow: auto;\n",
       "  }\n",
       "  table, th, td {\n",
       "    border: 1px solid black;\n",
       "    border-collapse: collapse;\n",
       "  }\n",
       "  th, td {\n",
       "    padding: 5px;\n",
       "  }\n",
       "  th {\n",
       "    text-align: left;\n",
       "  }\n",
       "</style><div class='table-result-container'><table class='table-result'><thead style='background-color: white'><tr><th>Numbers</th></tr></thead><tbody><tr><td>1</td></tr><tr><td>2</td></tr><tr><td>3</td></tr><tr><td>4</td></tr><tr><td>5</td></tr></tbody></table></div>"
      ]
     },
     "metadata": {
      "application/vnd.databricks.v1+output": {
       "addedWidgets": {},
       "aggData": [],
       "aggError": "",
       "aggOverflow": false,
       "aggSchema": [],
       "aggSeriesLimitReached": false,
       "aggType": "",
       "arguments": {},
       "columnCustomDisplayInfos": {},
       "data": [
        [
         1
        ],
        [
         2
        ],
        [
         3
        ],
        [
         4
        ],
        [
         5
        ]
       ],
       "datasetInfos": [],
       "dbfsResultPath": null,
       "isJsonSchema": true,
       "metadata": {},
       "overflow": false,
       "plotOptions": {
        "customPlotOptions": {},
        "displayType": "table",
        "pivotAggregation": null,
        "pivotColumns": null,
        "xColumns": null,
        "yColumns": null
       },
       "removedWidgets": [],
       "schema": [
        {
         "metadata": "{}",
         "name": "Numbers",
         "type": "\"long\""
        }
       ],
       "type": "table"
      }
     },
     "output_type": "display_data"
    }
   ],
   "source": [
    "df11 = rdd.map(lambda x: (x,)).toDF([\"Numbers\"])\n",
    "display(df11)"
   ]
  },
  {
   "cell_type": "markdown",
   "metadata": {
    "application/vnd.databricks.v1+cell": {
     "cellMetadata": {},
     "inputWidgets": {},
     "nuid": "ddcb1d86-50f0-4566-b250-a4850d96d733",
     "showTitle": false,
     "tableResultSettingsMap": {},
     "title": ""
    }
   },
   "source": [
    ">union"
   ]
  },
  {
   "cell_type": "code",
   "execution_count": 0,
   "metadata": {
    "application/vnd.databricks.v1+cell": {
     "cellMetadata": {
      "byteLimit": 2048000,
      "rowLimit": 10000
     },
     "inputWidgets": {},
     "nuid": "1cd93fd0-7d1e-484e-a673-45631934d7c9",
     "showTitle": false,
     "tableResultSettingsMap": {},
     "title": ""
    }
   },
   "outputs": [
    {
     "output_type": "stream",
     "name": "stdout",
     "output_type": "stream",
     "text": [
      "[1, 2, 3, 'A', 'B', 'C']\n"
     ]
    }
   ],
   "source": [
    "rdd1 = spark.sparkContext.parallelize([1, 2, 3])\n",
    "rdd2 = spark.sparkContext.parallelize(['A','B','C'])\n",
    "\n",
    "merged_rdd = rdd1.union(rdd2)\n",
    "print(merged_rdd.collect()) "
   ]
  },
  {
   "cell_type": "markdown",
   "metadata": {
    "application/vnd.databricks.v1+cell": {
     "cellMetadata": {},
     "inputWidgets": {},
     "nuid": "10898655-eb21-48e4-8b85-b14a7a7629b5",
     "showTitle": false,
     "tableResultSettingsMap": {},
     "title": ""
    }
   },
   "source": [
    ">intersection"
   ]
  },
  {
   "cell_type": "code",
   "execution_count": 0,
   "metadata": {
    "application/vnd.databricks.v1+cell": {
     "cellMetadata": {
      "byteLimit": 2048000,
      "rowLimit": 10000
     },
     "inputWidgets": {},
     "nuid": "c002cc98-4ad3-4235-b1f2-7b1249cc069f",
     "showTitle": false,
     "tableResultSettingsMap": {},
     "title": ""
    }
   },
   "outputs": [
    {
     "output_type": "stream",
     "name": "stdout",
     "output_type": "stream",
     "text": [
      "[2, 3]\n"
     ]
    }
   ],
   "source": [
    "rdd1 = spark.sparkContext.parallelize([1, 2, 3])\n",
    "rdd2 = spark.sparkContext.parallelize([4, 5, 6,2,3])\n",
    "\n",
    "common_rdd = rdd1.intersection(rdd2)\n",
    "print(common_rdd.collect())"
   ]
  },
  {
   "cell_type": "markdown",
   "metadata": {
    "application/vnd.databricks.v1+cell": {
     "cellMetadata": {},
     "inputWidgets": {},
     "nuid": "08f00fd4-3388-4e12-ad60-2efbe8f899ad",
     "showTitle": false,
     "tableResultSettingsMap": {},
     "title": ""
    }
   },
   "source": [
    ">subtract"
   ]
  },
  {
   "cell_type": "code",
   "execution_count": 0,
   "metadata": {
    "application/vnd.databricks.v1+cell": {
     "cellMetadata": {
      "byteLimit": 2048000,
      "rowLimit": 10000
     },
     "inputWidgets": {},
     "nuid": "378895dc-8f3a-427b-aced-15914d1131fb",
     "showTitle": false,
     "tableResultSettingsMap": {},
     "title": ""
    }
   },
   "outputs": [
    {
     "output_type": "stream",
     "name": "stdout",
     "output_type": "stream",
     "text": [
      "[1, 3, 5]\n"
     ]
    }
   ],
   "source": [
    "rdd1 = spark.sparkContext.parallelize([1, 2, 3, 4, 5])\n",
    "rdd2 = spark.sparkContext.parallelize([2, 4])\n",
    "\n",
    "diff_rdd = rdd1.subtract(rdd2)\n",
    "print(diff_rdd.collect()) \n"
   ]
  },
  {
   "cell_type": "markdown",
   "metadata": {
    "application/vnd.databricks.v1+cell": {
     "cellMetadata": {},
     "inputWidgets": {},
     "nuid": "9c7e56bf-04a5-4a10-9e2e-8d58363fda6d",
     "showTitle": false,
     "tableResultSettingsMap": {},
     "title": ""
    }
   },
   "source": [
    ">zip"
   ]
  },
  {
   "cell_type": "code",
   "execution_count": 0,
   "metadata": {
    "application/vnd.databricks.v1+cell": {
     "cellMetadata": {
      "byteLimit": 2048000,
      "rowLimit": 10000
     },
     "inputWidgets": {},
     "nuid": "6d7c3157-3b81-4bc8-bdb1-b5467ad66df3",
     "showTitle": false,
     "tableResultSettingsMap": {},
     "title": ""
    }
   },
   "outputs": [
    {
     "output_type": "stream",
     "name": "stdout",
     "output_type": "stream",
     "text": [
      "org.apache.spark.api.java.JavaPairRDD@7d6028b0"
     ]
    }
   ],
   "source": [
    "rdd1 = spark.sparkContext.parallelize([\"Alice\", \"Bob\", \"Charlie\"])\n",
    "rdd2 = spark.sparkContext.parallelize([25, 30])\n",
    "\n",
    "zipped_rdd = rdd1.zip(rdd2) \n",
    "display(zipped_rdd)"
   ]
  },
  {
   "cell_type": "markdown",
   "metadata": {
    "application/vnd.databricks.v1+cell": {
     "cellMetadata": {},
     "inputWidgets": {},
     "nuid": "1bc800d7-714f-4cd2-8904-ced799498c62",
     "showTitle": false,
     "tableResultSettingsMap": {},
     "title": ""
    }
   },
   "source": [
    ">Map()"
   ]
  },
  {
   "cell_type": "code",
   "execution_count": 0,
   "metadata": {
    "application/vnd.databricks.v1+cell": {
     "cellMetadata": {
      "byteLimit": 2048000,
      "rowLimit": 10000
     },
     "inputWidgets": {},
     "nuid": "2425f03c-5d83-435d-bcf2-4201023d8834",
     "showTitle": false,
     "tableResultSettingsMap": {},
     "title": ""
    }
   },
   "outputs": [
    {
     "output_type": "stream",
     "name": "stdout",
     "output_type": "stream",
     "text": [
      "[1, 4, 9, 16, 25]\n"
     ]
    }
   ],
   "source": [
    "#without_Map\n",
    "\n",
    "rdd = spark.sparkContext.parallelize([1, 2, 3, 4, 5])\n",
    "new_rdd = []\n",
    "for num in rdd.collect():\n",
    "    new_rdd.append(num * num)\n",
    "print(new_rdd) "
   ]
  },
  {
   "cell_type": "code",
   "execution_count": 0,
   "metadata": {
    "application/vnd.databricks.v1+cell": {
     "cellMetadata": {
      "byteLimit": 2048000,
      "rowLimit": 10000
     },
     "inputWidgets": {},
     "nuid": "a3f2ccd9-4ddc-49ec-83c1-fa940aa6955e",
     "showTitle": false,
     "tableResultSettingsMap": {},
     "title": ""
    }
   },
   "outputs": [
    {
     "output_type": "stream",
     "name": "stdout",
     "output_type": "stream",
     "text": [
      "[1, 4, 9, 16, 25]\n"
     ]
    }
   ],
   "source": [
    "#Same above example with map function\n",
    "rdd = spark.sparkContext.parallelize([1, 2, 3, 4, 5])\n",
    "squared_rdd = rdd.map(lambda x: x * x)\n",
    "print(squared_rdd.collect()) "
   ]
  },
  {
   "cell_type": "markdown",
   "metadata": {
    "application/vnd.databricks.v1+cell": {
     "cellMetadata": {},
     "inputWidgets": {},
     "nuid": "269e4293-a961-40a3-8785-9776b859cab7",
     "showTitle": false,
     "tableResultSettingsMap": {},
     "title": ""
    }
   },
   "source": [
    ">Map() vs FlatMap()"
   ]
  },
  {
   "cell_type": "code",
   "execution_count": 0,
   "metadata": {
    "application/vnd.databricks.v1+cell": {
     "cellMetadata": {
      "byteLimit": 2048000,
      "rowLimit": 10000
     },
     "inputWidgets": {},
     "nuid": "d5b293ce-7688-4953-aac4-42fce834ec4b",
     "showTitle": false,
     "tableResultSettingsMap": {},
     "title": ""
    }
   },
   "outputs": [
    {
     "output_type": "stream",
     "name": "stdout",
     "output_type": "stream",
     "text": [
      "Hello\nWorld\nPySpark\nis\nfun\n"
     ]
    }
   ],
   "source": [
    "rdd = spark.sparkContext.parallelize([\"Hello World\", \"PySpark is fun\"])\n",
    "flat_mapped_rdd = rdd.flatMap(lambda x: x.split(\" \"))\n",
    "\n",
    "for i in flat_mapped_rdd.collect():\n",
    "    print(i)\n"
   ]
  },
  {
   "cell_type": "code",
   "execution_count": 0,
   "metadata": {
    "application/vnd.databricks.v1+cell": {
     "cellMetadata": {
      "byteLimit": 2048000,
      "rowLimit": 10000
     },
     "inputWidgets": {},
     "nuid": "b1c84d97-b2c8-4f00-89a9-e96976bde553",
     "showTitle": false,
     "tableResultSettingsMap": {},
     "title": ""
    }
   },
   "outputs": [
    {
     "output_type": "stream",
     "name": "stdout",
     "output_type": "stream",
     "text": [
      "['Hello', 'World']\n['PySpark', 'is', 'fun']\n"
     ]
    }
   ],
   "source": [
    "rdd = spark.sparkContext.parallelize([\"Hello World\", \"PySpark is fun\"])\n",
    "mapped_rdd = rdd.map(lambda x: x.split(\" \"))\n",
    "\n",
    "for i in mapped_rdd.collect():\n",
    "    print(i)\n"
   ]
  },
  {
   "cell_type": "markdown",
   "metadata": {
    "application/vnd.databricks.v1+cell": {
     "cellMetadata": {},
     "inputWidgets": {},
     "nuid": "64b0c99f-fcd7-4a1f-ace1-e685228c2965",
     "showTitle": false,
     "tableResultSettingsMap": {},
     "title": ""
    }
   },
   "source": [
    ">partitionBy\n"
   ]
  },
  {
   "cell_type": "code",
   "execution_count": 0,
   "metadata": {
    "application/vnd.databricks.v1+cell": {
     "cellMetadata": {
      "byteLimit": 2048000,
      "rowLimit": 10000
     },
     "inputWidgets": {},
     "nuid": "b14fadb4-95f7-43f7-a799-ab2dd2ff4cc0",
     "showTitle": false,
     "tableResultSettingsMap": {},
     "title": ""
    }
   },
   "outputs": [
    {
     "output_type": "stream",
     "name": "stdout",
     "output_type": "stream",
     "text": [
      "Partitioned Data Successfully Saved!\n"
     ]
    }
   ],
   "source": [
    "data=spark.read.csv('dbfs:/FileStore/Pokemon.csv',header=True,inferSchema=True)\n",
    "data.write.mode(\"overwrite\").partitionBy(\"Generation\").parquet(\"partitioned_data\")\n",
    "print(\"Partitioned Data Successfully Saved!\")"
   ]
  },
  {
   "cell_type": "code",
   "execution_count": 0,
   "metadata": {
    "application/vnd.databricks.v1+cell": {
     "cellMetadata": {
      "byteLimit": 2048000,
      "rowLimit": 10000
     },
     "inputWidgets": {},
     "nuid": "653481dc-013d-47b2-a31c-e1a9547f663e",
     "showTitle": false,
     "tableResultSettingsMap": {},
     "title": ""
    }
   },
   "outputs": [
    {
     "output_type": "display_data",
     "data": {
      "text/html": [
       "<style scoped>\n",
       "  .table-result-container {\n",
       "    max-height: 300px;\n",
       "    overflow: auto;\n",
       "  }\n",
       "  table, th, td {\n",
       "    border: 1px solid black;\n",
       "    border-collapse: collapse;\n",
       "  }\n",
       "  th, td {\n",
       "    padding: 5px;\n",
       "  }\n",
       "  th {\n",
       "    text-align: left;\n",
       "  }\n",
       "</style><div class='table-result-container'><table class='table-result'><thead style='background-color: white'><tr><th>#</th><th>Name</th><th>Type 1</th><th>Type 2</th><th>Total</th><th>HP</th><th>Attack</th><th>Defense</th><th>Sp. Atk</th><th>Sp. Def</th><th>Speed</th><th>Legendary</th></tr></thead><tbody><tr><td>1</td><td>Bulbasaur</td><td>Grass</td><td>Poison</td><td>318</td><td>45</td><td>49</td><td>49</td><td>65</td><td>65</td><td>45</td><td>false</td></tr><tr><td>2</td><td>Ivysaur</td><td>Grass</td><td>Poison</td><td>405</td><td>60</td><td>62</td><td>63</td><td>80</td><td>80</td><td>60</td><td>false</td></tr><tr><td>3</td><td>Venusaur</td><td>Grass</td><td>Poison</td><td>525</td><td>80</td><td>82</td><td>83</td><td>100</td><td>100</td><td>80</td><td>false</td></tr><tr><td>3</td><td>VenusaurMega Venusaur</td><td>Grass</td><td>Poison</td><td>625</td><td>80</td><td>100</td><td>123</td><td>122</td><td>120</td><td>80</td><td>false</td></tr><tr><td>4</td><td>Charmander</td><td>Fire</td><td>null</td><td>309</td><td>39</td><td>52</td><td>43</td><td>60</td><td>50</td><td>65</td><td>false</td></tr><tr><td>5</td><td>Charmeleon</td><td>Fire</td><td>null</td><td>405</td><td>58</td><td>64</td><td>58</td><td>80</td><td>65</td><td>80</td><td>false</td></tr><tr><td>6</td><td>Charizard</td><td>Fire</td><td>Flying</td><td>534</td><td>78</td><td>84</td><td>78</td><td>109</td><td>85</td><td>100</td><td>false</td></tr><tr><td>6</td><td>CharizardMega Charizard X</td><td>Fire</td><td>Dragon</td><td>634</td><td>78</td><td>130</td><td>111</td><td>130</td><td>85</td><td>100</td><td>false</td></tr><tr><td>6</td><td>CharizardMega Charizard Y</td><td>Fire</td><td>Flying</td><td>634</td><td>78</td><td>104</td><td>78</td><td>159</td><td>115</td><td>100</td><td>false</td></tr><tr><td>7</td><td>Squirtle</td><td>Water</td><td>null</td><td>314</td><td>44</td><td>48</td><td>65</td><td>50</td><td>64</td><td>43</td><td>false</td></tr><tr><td>8</td><td>Wartortle</td><td>Water</td><td>null</td><td>405</td><td>59</td><td>63</td><td>80</td><td>65</td><td>80</td><td>58</td><td>false</td></tr><tr><td>9</td><td>Blastoise</td><td>Water</td><td>null</td><td>530</td><td>79</td><td>83</td><td>100</td><td>85</td><td>105</td><td>78</td><td>false</td></tr><tr><td>9</td><td>BlastoiseMega Blastoise</td><td>Water</td><td>null</td><td>630</td><td>79</td><td>103</td><td>120</td><td>135</td><td>115</td><td>78</td><td>false</td></tr><tr><td>10</td><td>Caterpie</td><td>Bug</td><td>null</td><td>195</td><td>45</td><td>30</td><td>35</td><td>20</td><td>20</td><td>45</td><td>false</td></tr><tr><td>11</td><td>Metapod</td><td>Bug</td><td>null</td><td>205</td><td>50</td><td>20</td><td>55</td><td>25</td><td>25</td><td>30</td><td>false</td></tr><tr><td>12</td><td>Butterfree</td><td>Bug</td><td>Flying</td><td>395</td><td>60</td><td>45</td><td>50</td><td>90</td><td>80</td><td>70</td><td>false</td></tr><tr><td>13</td><td>Weedle</td><td>Bug</td><td>Poison</td><td>195</td><td>40</td><td>35</td><td>30</td><td>20</td><td>20</td><td>50</td><td>false</td></tr><tr><td>14</td><td>Kakuna</td><td>Bug</td><td>Poison</td><td>205</td><td>45</td><td>25</td><td>50</td><td>25</td><td>25</td><td>35</td><td>false</td></tr><tr><td>15</td><td>Beedrill</td><td>Bug</td><td>Poison</td><td>395</td><td>65</td><td>90</td><td>40</td><td>45</td><td>80</td><td>75</td><td>false</td></tr><tr><td>15</td><td>BeedrillMega Beedrill</td><td>Bug</td><td>Poison</td><td>495</td><td>65</td><td>150</td><td>40</td><td>15</td><td>80</td><td>145</td><td>false</td></tr><tr><td>16</td><td>Pidgey</td><td>Normal</td><td>Flying</td><td>251</td><td>40</td><td>45</td><td>40</td><td>35</td><td>35</td><td>56</td><td>false</td></tr><tr><td>17</td><td>Pidgeotto</td><td>Normal</td><td>Flying</td><td>349</td><td>63</td><td>60</td><td>55</td><td>50</td><td>50</td><td>71</td><td>false</td></tr><tr><td>18</td><td>Pidgeot</td><td>Normal</td><td>Flying</td><td>479</td><td>83</td><td>80</td><td>75</td><td>70</td><td>70</td><td>101</td><td>false</td></tr><tr><td>18</td><td>PidgeotMega Pidgeot</td><td>Normal</td><td>Flying</td><td>579</td><td>83</td><td>80</td><td>80</td><td>135</td><td>80</td><td>121</td><td>false</td></tr><tr><td>19</td><td>Rattata</td><td>Normal</td><td>null</td><td>253</td><td>30</td><td>56</td><td>35</td><td>25</td><td>35</td><td>72</td><td>false</td></tr><tr><td>20</td><td>Raticate</td><td>Normal</td><td>null</td><td>413</td><td>55</td><td>81</td><td>60</td><td>50</td><td>70</td><td>97</td><td>false</td></tr><tr><td>21</td><td>Spearow</td><td>Normal</td><td>Flying</td><td>262</td><td>40</td><td>60</td><td>30</td><td>31</td><td>31</td><td>70</td><td>false</td></tr><tr><td>22</td><td>Fearow</td><td>Normal</td><td>Flying</td><td>442</td><td>65</td><td>90</td><td>65</td><td>61</td><td>61</td><td>100</td><td>false</td></tr><tr><td>23</td><td>Ekans</td><td>Poison</td><td>null</td><td>288</td><td>35</td><td>60</td><td>44</td><td>40</td><td>54</td><td>55</td><td>false</td></tr><tr><td>24</td><td>Arbok</td><td>Poison</td><td>null</td><td>438</td><td>60</td><td>85</td><td>69</td><td>65</td><td>79</td><td>80</td><td>false</td></tr><tr><td>25</td><td>Pikachu</td><td>Electric</td><td>null</td><td>320</td><td>35</td><td>55</td><td>40</td><td>50</td><td>50</td><td>90</td><td>false</td></tr><tr><td>26</td><td>Raichu</td><td>Electric</td><td>null</td><td>485</td><td>60</td><td>90</td><td>55</td><td>90</td><td>80</td><td>110</td><td>false</td></tr><tr><td>27</td><td>Sandshrew</td><td>Ground</td><td>null</td><td>300</td><td>50</td><td>75</td><td>85</td><td>20</td><td>30</td><td>40</td><td>false</td></tr><tr><td>28</td><td>Sandslash</td><td>Ground</td><td>null</td><td>450</td><td>75</td><td>100</td><td>110</td><td>45</td><td>55</td><td>65</td><td>false</td></tr><tr><td>29</td><td>Nidoran♀</td><td>Poison</td><td>null</td><td>275</td><td>55</td><td>47</td><td>52</td><td>40</td><td>40</td><td>41</td><td>false</td></tr><tr><td>30</td><td>Nidorina</td><td>Poison</td><td>null</td><td>365</td><td>70</td><td>62</td><td>67</td><td>55</td><td>55</td><td>56</td><td>false</td></tr><tr><td>31</td><td>Nidoqueen</td><td>Poison</td><td>Ground</td><td>505</td><td>90</td><td>92</td><td>87</td><td>75</td><td>85</td><td>76</td><td>false</td></tr><tr><td>32</td><td>Nidoran♂</td><td>Poison</td><td>null</td><td>273</td><td>46</td><td>57</td><td>40</td><td>40</td><td>40</td><td>50</td><td>false</td></tr><tr><td>33</td><td>Nidorino</td><td>Poison</td><td>null</td><td>365</td><td>61</td><td>72</td><td>57</td><td>55</td><td>55</td><td>65</td><td>false</td></tr><tr><td>34</td><td>Nidoking</td><td>Poison</td><td>Ground</td><td>505</td><td>81</td><td>102</td><td>77</td><td>85</td><td>75</td><td>85</td><td>false</td></tr><tr><td>35</td><td>Clefairy</td><td>Fairy</td><td>null</td><td>323</td><td>70</td><td>45</td><td>48</td><td>60</td><td>65</td><td>35</td><td>false</td></tr><tr><td>36</td><td>Clefable</td><td>Fairy</td><td>null</td><td>483</td><td>95</td><td>70</td><td>73</td><td>95</td><td>90</td><td>60</td><td>false</td></tr><tr><td>37</td><td>Vulpix</td><td>Fire</td><td>null</td><td>299</td><td>38</td><td>41</td><td>40</td><td>50</td><td>65</td><td>65</td><td>false</td></tr><tr><td>38</td><td>Ninetales</td><td>Fire</td><td>null</td><td>505</td><td>73</td><td>76</td><td>75</td><td>81</td><td>100</td><td>100</td><td>false</td></tr><tr><td>39</td><td>Jigglypuff</td><td>Normal</td><td>Fairy</td><td>270</td><td>115</td><td>45</td><td>20</td><td>45</td><td>25</td><td>20</td><td>false</td></tr><tr><td>40</td><td>Wigglytuff</td><td>Normal</td><td>Fairy</td><td>435</td><td>140</td><td>70</td><td>45</td><td>85</td><td>50</td><td>45</td><td>false</td></tr><tr><td>41</td><td>Zubat</td><td>Poison</td><td>Flying</td><td>245</td><td>40</td><td>45</td><td>35</td><td>30</td><td>40</td><td>55</td><td>false</td></tr><tr><td>42</td><td>Golbat</td><td>Poison</td><td>Flying</td><td>455</td><td>75</td><td>80</td><td>70</td><td>65</td><td>75</td><td>90</td><td>false</td></tr><tr><td>43</td><td>Oddish</td><td>Grass</td><td>Poison</td><td>320</td><td>45</td><td>50</td><td>55</td><td>75</td><td>65</td><td>30</td><td>false</td></tr><tr><td>44</td><td>Gloom</td><td>Grass</td><td>Poison</td><td>395</td><td>60</td><td>65</td><td>70</td><td>85</td><td>75</td><td>40</td><td>false</td></tr><tr><td>45</td><td>Vileplume</td><td>Grass</td><td>Poison</td><td>490</td><td>75</td><td>80</td><td>85</td><td>110</td><td>90</td><td>50</td><td>false</td></tr><tr><td>46</td><td>Paras</td><td>Bug</td><td>Grass</td><td>285</td><td>35</td><td>70</td><td>55</td><td>45</td><td>55</td><td>25</td><td>false</td></tr><tr><td>47</td><td>Parasect</td><td>Bug</td><td>Grass</td><td>405</td><td>60</td><td>95</td><td>80</td><td>60</td><td>80</td><td>30</td><td>false</td></tr><tr><td>48</td><td>Venonat</td><td>Bug</td><td>Poison</td><td>305</td><td>60</td><td>55</td><td>50</td><td>40</td><td>55</td><td>45</td><td>false</td></tr><tr><td>49</td><td>Venomoth</td><td>Bug</td><td>Poison</td><td>450</td><td>70</td><td>65</td><td>60</td><td>90</td><td>75</td><td>90</td><td>false</td></tr><tr><td>50</td><td>Diglett</td><td>Ground</td><td>null</td><td>265</td><td>10</td><td>55</td><td>25</td><td>35</td><td>45</td><td>95</td><td>false</td></tr><tr><td>51</td><td>Dugtrio</td><td>Ground</td><td>null</td><td>405</td><td>35</td><td>80</td><td>50</td><td>50</td><td>70</td><td>120</td><td>false</td></tr><tr><td>52</td><td>Meowth</td><td>Normal</td><td>null</td><td>290</td><td>40</td><td>45</td><td>35</td><td>40</td><td>40</td><td>90</td><td>false</td></tr><tr><td>53</td><td>Persian</td><td>Normal</td><td>null</td><td>440</td><td>65</td><td>70</td><td>60</td><td>65</td><td>65</td><td>115</td><td>false</td></tr><tr><td>54</td><td>Psyduck</td><td>Water</td><td>null</td><td>320</td><td>50</td><td>52</td><td>48</td><td>65</td><td>50</td><td>55</td><td>false</td></tr><tr><td>55</td><td>Golduck</td><td>Water</td><td>null</td><td>500</td><td>80</td><td>82</td><td>78</td><td>95</td><td>80</td><td>85</td><td>false</td></tr><tr><td>56</td><td>Mankey</td><td>Fighting</td><td>null</td><td>305</td><td>40</td><td>80</td><td>35</td><td>35</td><td>45</td><td>70</td><td>false</td></tr><tr><td>57</td><td>Primeape</td><td>Fighting</td><td>null</td><td>455</td><td>65</td><td>105</td><td>60</td><td>60</td><td>70</td><td>95</td><td>false</td></tr><tr><td>58</td><td>Growlithe</td><td>Fire</td><td>null</td><td>350</td><td>55</td><td>70</td><td>45</td><td>70</td><td>50</td><td>60</td><td>false</td></tr><tr><td>59</td><td>Arcanine</td><td>Fire</td><td>null</td><td>555</td><td>90</td><td>110</td><td>80</td><td>100</td><td>80</td><td>95</td><td>false</td></tr><tr><td>60</td><td>Poliwag</td><td>Water</td><td>null</td><td>300</td><td>40</td><td>50</td><td>40</td><td>40</td><td>40</td><td>90</td><td>false</td></tr><tr><td>61</td><td>Poliwhirl</td><td>Water</td><td>null</td><td>385</td><td>65</td><td>65</td><td>65</td><td>50</td><td>50</td><td>90</td><td>false</td></tr><tr><td>62</td><td>Poliwrath</td><td>Water</td><td>Fighting</td><td>510</td><td>90</td><td>95</td><td>95</td><td>70</td><td>90</td><td>70</td><td>false</td></tr><tr><td>63</td><td>Abra</td><td>Psychic</td><td>null</td><td>310</td><td>25</td><td>20</td><td>15</td><td>105</td><td>55</td><td>90</td><td>false</td></tr><tr><td>64</td><td>Kadabra</td><td>Psychic</td><td>null</td><td>400</td><td>40</td><td>35</td><td>30</td><td>120</td><td>70</td><td>105</td><td>false</td></tr><tr><td>65</td><td>Alakazam</td><td>Psychic</td><td>null</td><td>500</td><td>55</td><td>50</td><td>45</td><td>135</td><td>95</td><td>120</td><td>false</td></tr><tr><td>65</td><td>AlakazamMega Alakazam</td><td>Psychic</td><td>null</td><td>590</td><td>55</td><td>50</td><td>65</td><td>175</td><td>95</td><td>150</td><td>false</td></tr><tr><td>66</td><td>Machop</td><td>Fighting</td><td>null</td><td>305</td><td>70</td><td>80</td><td>50</td><td>35</td><td>35</td><td>35</td><td>false</td></tr><tr><td>67</td><td>Machoke</td><td>Fighting</td><td>null</td><td>405</td><td>80</td><td>100</td><td>70</td><td>50</td><td>60</td><td>45</td><td>false</td></tr><tr><td>68</td><td>Machamp</td><td>Fighting</td><td>null</td><td>505</td><td>90</td><td>130</td><td>80</td><td>65</td><td>85</td><td>55</td><td>false</td></tr><tr><td>69</td><td>Bellsprout</td><td>Grass</td><td>Poison</td><td>300</td><td>50</td><td>75</td><td>35</td><td>70</td><td>30</td><td>40</td><td>false</td></tr><tr><td>70</td><td>Weepinbell</td><td>Grass</td><td>Poison</td><td>390</td><td>65</td><td>90</td><td>50</td><td>85</td><td>45</td><td>55</td><td>false</td></tr><tr><td>71</td><td>Victreebel</td><td>Grass</td><td>Poison</td><td>490</td><td>80</td><td>105</td><td>65</td><td>100</td><td>70</td><td>70</td><td>false</td></tr><tr><td>72</td><td>Tentacool</td><td>Water</td><td>Poison</td><td>335</td><td>40</td><td>40</td><td>35</td><td>50</td><td>100</td><td>70</td><td>false</td></tr><tr><td>73</td><td>Tentacruel</td><td>Water</td><td>Poison</td><td>515</td><td>80</td><td>70</td><td>65</td><td>80</td><td>120</td><td>100</td><td>false</td></tr><tr><td>74</td><td>Geodude</td><td>Rock</td><td>Ground</td><td>300</td><td>40</td><td>80</td><td>100</td><td>30</td><td>30</td><td>20</td><td>false</td></tr><tr><td>75</td><td>Graveler</td><td>Rock</td><td>Ground</td><td>390</td><td>55</td><td>95</td><td>115</td><td>45</td><td>45</td><td>35</td><td>false</td></tr><tr><td>76</td><td>Golem</td><td>Rock</td><td>Ground</td><td>495</td><td>80</td><td>120</td><td>130</td><td>55</td><td>65</td><td>45</td><td>false</td></tr><tr><td>77</td><td>Ponyta</td><td>Fire</td><td>null</td><td>410</td><td>50</td><td>85</td><td>55</td><td>65</td><td>65</td><td>90</td><td>false</td></tr><tr><td>78</td><td>Rapidash</td><td>Fire</td><td>null</td><td>500</td><td>65</td><td>100</td><td>70</td><td>80</td><td>80</td><td>105</td><td>false</td></tr><tr><td>79</td><td>Slowpoke</td><td>Water</td><td>Psychic</td><td>315</td><td>90</td><td>65</td><td>65</td><td>40</td><td>40</td><td>15</td><td>false</td></tr><tr><td>80</td><td>Slowbro</td><td>Water</td><td>Psychic</td><td>490</td><td>95</td><td>75</td><td>110</td><td>100</td><td>80</td><td>30</td><td>false</td></tr><tr><td>80</td><td>SlowbroMega Slowbro</td><td>Water</td><td>Psychic</td><td>590</td><td>95</td><td>75</td><td>180</td><td>130</td><td>80</td><td>30</td><td>false</td></tr><tr><td>81</td><td>Magnemite</td><td>Electric</td><td>Steel</td><td>325</td><td>25</td><td>35</td><td>70</td><td>95</td><td>55</td><td>45</td><td>false</td></tr><tr><td>82</td><td>Magneton</td><td>Electric</td><td>Steel</td><td>465</td><td>50</td><td>60</td><td>95</td><td>120</td><td>70</td><td>70</td><td>false</td></tr><tr><td>83</td><td>Farfetch'd</td><td>Normal</td><td>Flying</td><td>352</td><td>52</td><td>65</td><td>55</td><td>58</td><td>62</td><td>60</td><td>false</td></tr><tr><td>84</td><td>Doduo</td><td>Normal</td><td>Flying</td><td>310</td><td>35</td><td>85</td><td>45</td><td>35</td><td>35</td><td>75</td><td>false</td></tr><tr><td>85</td><td>Dodrio</td><td>Normal</td><td>Flying</td><td>460</td><td>60</td><td>110</td><td>70</td><td>60</td><td>60</td><td>100</td><td>false</td></tr><tr><td>86</td><td>Seel</td><td>Water</td><td>null</td><td>325</td><td>65</td><td>45</td><td>55</td><td>45</td><td>70</td><td>45</td><td>false</td></tr><tr><td>87</td><td>Dewgong</td><td>Water</td><td>Ice</td><td>475</td><td>90</td><td>70</td><td>80</td><td>70</td><td>95</td><td>70</td><td>false</td></tr><tr><td>88</td><td>Grimer</td><td>Poison</td><td>null</td><td>325</td><td>80</td><td>80</td><td>50</td><td>40</td><td>50</td><td>25</td><td>false</td></tr><tr><td>89</td><td>Muk</td><td>Poison</td><td>null</td><td>500</td><td>105</td><td>105</td><td>75</td><td>65</td><td>100</td><td>50</td><td>false</td></tr><tr><td>90</td><td>Shellder</td><td>Water</td><td>null</td><td>305</td><td>30</td><td>65</td><td>100</td><td>45</td><td>25</td><td>40</td><td>false</td></tr><tr><td>91</td><td>Cloyster</td><td>Water</td><td>Ice</td><td>525</td><td>50</td><td>95</td><td>180</td><td>85</td><td>45</td><td>70</td><td>false</td></tr><tr><td>92</td><td>Gastly</td><td>Ghost</td><td>Poison</td><td>310</td><td>30</td><td>35</td><td>30</td><td>100</td><td>35</td><td>80</td><td>false</td></tr><tr><td>93</td><td>Haunter</td><td>Ghost</td><td>Poison</td><td>405</td><td>45</td><td>50</td><td>45</td><td>115</td><td>55</td><td>95</td><td>false</td></tr><tr><td>94</td><td>Gengar</td><td>Ghost</td><td>Poison</td><td>500</td><td>60</td><td>65</td><td>60</td><td>130</td><td>75</td><td>110</td><td>false</td></tr><tr><td>94</td><td>GengarMega Gengar</td><td>Ghost</td><td>Poison</td><td>600</td><td>60</td><td>65</td><td>80</td><td>170</td><td>95</td><td>130</td><td>false</td></tr><tr><td>95</td><td>Onix</td><td>Rock</td><td>Ground</td><td>385</td><td>35</td><td>45</td><td>160</td><td>30</td><td>45</td><td>70</td><td>false</td></tr><tr><td>96</td><td>Drowzee</td><td>Psychic</td><td>null</td><td>328</td><td>60</td><td>48</td><td>45</td><td>43</td><td>90</td><td>42</td><td>false</td></tr><tr><td>97</td><td>Hypno</td><td>Psychic</td><td>null</td><td>483</td><td>85</td><td>73</td><td>70</td><td>73</td><td>115</td><td>67</td><td>false</td></tr><tr><td>98</td><td>Krabby</td><td>Water</td><td>null</td><td>325</td><td>30</td><td>105</td><td>90</td><td>25</td><td>25</td><td>50</td><td>false</td></tr><tr><td>99</td><td>Kingler</td><td>Water</td><td>null</td><td>475</td><td>55</td><td>130</td><td>115</td><td>50</td><td>50</td><td>75</td><td>false</td></tr><tr><td>100</td><td>Voltorb</td><td>Electric</td><td>null</td><td>330</td><td>40</td><td>30</td><td>50</td><td>55</td><td>55</td><td>100</td><td>false</td></tr><tr><td>101</td><td>Electrode</td><td>Electric</td><td>null</td><td>480</td><td>60</td><td>50</td><td>70</td><td>80</td><td>80</td><td>140</td><td>false</td></tr><tr><td>102</td><td>Exeggcute</td><td>Grass</td><td>Psychic</td><td>325</td><td>60</td><td>40</td><td>80</td><td>60</td><td>45</td><td>40</td><td>false</td></tr><tr><td>103</td><td>Exeggutor</td><td>Grass</td><td>Psychic</td><td>520</td><td>95</td><td>95</td><td>85</td><td>125</td><td>65</td><td>55</td><td>false</td></tr><tr><td>104</td><td>Cubone</td><td>Ground</td><td>null</td><td>320</td><td>50</td><td>50</td><td>95</td><td>40</td><td>50</td><td>35</td><td>false</td></tr><tr><td>105</td><td>Marowak</td><td>Ground</td><td>null</td><td>425</td><td>60</td><td>80</td><td>110</td><td>50</td><td>80</td><td>45</td><td>false</td></tr><tr><td>106</td><td>Hitmonlee</td><td>Fighting</td><td>null</td><td>455</td><td>50</td><td>120</td><td>53</td><td>35</td><td>110</td><td>87</td><td>false</td></tr><tr><td>107</td><td>Hitmonchan</td><td>Fighting</td><td>null</td><td>455</td><td>50</td><td>105</td><td>79</td><td>35</td><td>110</td><td>76</td><td>false</td></tr><tr><td>108</td><td>Lickitung</td><td>Normal</td><td>null</td><td>385</td><td>90</td><td>55</td><td>75</td><td>60</td><td>75</td><td>30</td><td>false</td></tr><tr><td>109</td><td>Koffing</td><td>Poison</td><td>null</td><td>340</td><td>40</td><td>65</td><td>95</td><td>60</td><td>45</td><td>35</td><td>false</td></tr><tr><td>110</td><td>Weezing</td><td>Poison</td><td>null</td><td>490</td><td>65</td><td>90</td><td>120</td><td>85</td><td>70</td><td>60</td><td>false</td></tr><tr><td>111</td><td>Rhyhorn</td><td>Ground</td><td>Rock</td><td>345</td><td>80</td><td>85</td><td>95</td><td>30</td><td>30</td><td>25</td><td>false</td></tr><tr><td>112</td><td>Rhydon</td><td>Ground</td><td>Rock</td><td>485</td><td>105</td><td>130</td><td>120</td><td>45</td><td>45</td><td>40</td><td>false</td></tr><tr><td>113</td><td>Chansey</td><td>Normal</td><td>null</td><td>450</td><td>250</td><td>5</td><td>5</td><td>35</td><td>105</td><td>50</td><td>false</td></tr><tr><td>114</td><td>Tangela</td><td>Grass</td><td>null</td><td>435</td><td>65</td><td>55</td><td>115</td><td>100</td><td>40</td><td>60</td><td>false</td></tr><tr><td>115</td><td>Kangaskhan</td><td>Normal</td><td>null</td><td>490</td><td>105</td><td>95</td><td>80</td><td>40</td><td>80</td><td>90</td><td>false</td></tr><tr><td>115</td><td>KangaskhanMega Kangaskhan</td><td>Normal</td><td>null</td><td>590</td><td>105</td><td>125</td><td>100</td><td>60</td><td>100</td><td>100</td><td>false</td></tr><tr><td>116</td><td>Horsea</td><td>Water</td><td>null</td><td>295</td><td>30</td><td>40</td><td>70</td><td>70</td><td>25</td><td>60</td><td>false</td></tr><tr><td>117</td><td>Seadra</td><td>Water</td><td>null</td><td>440</td><td>55</td><td>65</td><td>95</td><td>95</td><td>45</td><td>85</td><td>false</td></tr><tr><td>118</td><td>Goldeen</td><td>Water</td><td>null</td><td>320</td><td>45</td><td>67</td><td>60</td><td>35</td><td>50</td><td>63</td><td>false</td></tr><tr><td>119</td><td>Seaking</td><td>Water</td><td>null</td><td>450</td><td>80</td><td>92</td><td>65</td><td>65</td><td>80</td><td>68</td><td>false</td></tr><tr><td>120</td><td>Staryu</td><td>Water</td><td>null</td><td>340</td><td>30</td><td>45</td><td>55</td><td>70</td><td>55</td><td>85</td><td>false</td></tr><tr><td>121</td><td>Starmie</td><td>Water</td><td>Psychic</td><td>520</td><td>60</td><td>75</td><td>85</td><td>100</td><td>85</td><td>115</td><td>false</td></tr><tr><td>122</td><td>Mr. Mime</td><td>Psychic</td><td>Fairy</td><td>460</td><td>40</td><td>45</td><td>65</td><td>100</td><td>120</td><td>90</td><td>false</td></tr><tr><td>123</td><td>Scyther</td><td>Bug</td><td>Flying</td><td>500</td><td>70</td><td>110</td><td>80</td><td>55</td><td>80</td><td>105</td><td>false</td></tr><tr><td>124</td><td>Jynx</td><td>Ice</td><td>Psychic</td><td>455</td><td>65</td><td>50</td><td>35</td><td>115</td><td>95</td><td>95</td><td>false</td></tr><tr><td>125</td><td>Electabuzz</td><td>Electric</td><td>null</td><td>490</td><td>65</td><td>83</td><td>57</td><td>95</td><td>85</td><td>105</td><td>false</td></tr><tr><td>126</td><td>Magmar</td><td>Fire</td><td>null</td><td>495</td><td>65</td><td>95</td><td>57</td><td>100</td><td>85</td><td>93</td><td>false</td></tr><tr><td>127</td><td>Pinsir</td><td>Bug</td><td>null</td><td>500</td><td>65</td><td>125</td><td>100</td><td>55</td><td>70</td><td>85</td><td>false</td></tr><tr><td>127</td><td>PinsirMega Pinsir</td><td>Bug</td><td>Flying</td><td>600</td><td>65</td><td>155</td><td>120</td><td>65</td><td>90</td><td>105</td><td>false</td></tr><tr><td>128</td><td>Tauros</td><td>Normal</td><td>null</td><td>490</td><td>75</td><td>100</td><td>95</td><td>40</td><td>70</td><td>110</td><td>false</td></tr><tr><td>129</td><td>Magikarp</td><td>Water</td><td>null</td><td>200</td><td>20</td><td>10</td><td>55</td><td>15</td><td>20</td><td>80</td><td>false</td></tr><tr><td>130</td><td>Gyarados</td><td>Water</td><td>Flying</td><td>540</td><td>95</td><td>125</td><td>79</td><td>60</td><td>100</td><td>81</td><td>false</td></tr><tr><td>130</td><td>GyaradosMega Gyarados</td><td>Water</td><td>Dark</td><td>640</td><td>95</td><td>155</td><td>109</td><td>70</td><td>130</td><td>81</td><td>false</td></tr><tr><td>131</td><td>Lapras</td><td>Water</td><td>Ice</td><td>535</td><td>130</td><td>85</td><td>80</td><td>85</td><td>95</td><td>60</td><td>false</td></tr><tr><td>132</td><td>Ditto</td><td>Normal</td><td>null</td><td>288</td><td>48</td><td>48</td><td>48</td><td>48</td><td>48</td><td>48</td><td>false</td></tr><tr><td>133</td><td>Eevee</td><td>Normal</td><td>null</td><td>325</td><td>55</td><td>55</td><td>50</td><td>45</td><td>65</td><td>55</td><td>false</td></tr><tr><td>134</td><td>Vaporeon</td><td>Water</td><td>null</td><td>525</td><td>130</td><td>65</td><td>60</td><td>110</td><td>95</td><td>65</td><td>false</td></tr><tr><td>135</td><td>Jolteon</td><td>Electric</td><td>null</td><td>525</td><td>65</td><td>65</td><td>60</td><td>110</td><td>95</td><td>130</td><td>false</td></tr><tr><td>136</td><td>Flareon</td><td>Fire</td><td>null</td><td>525</td><td>65</td><td>130</td><td>60</td><td>95</td><td>110</td><td>65</td><td>false</td></tr><tr><td>137</td><td>Porygon</td><td>Normal</td><td>null</td><td>395</td><td>65</td><td>60</td><td>70</td><td>85</td><td>75</td><td>40</td><td>false</td></tr><tr><td>138</td><td>Omanyte</td><td>Rock</td><td>Water</td><td>355</td><td>35</td><td>40</td><td>100</td><td>90</td><td>55</td><td>35</td><td>false</td></tr><tr><td>139</td><td>Omastar</td><td>Rock</td><td>Water</td><td>495</td><td>70</td><td>60</td><td>125</td><td>115</td><td>70</td><td>55</td><td>false</td></tr><tr><td>140</td><td>Kabuto</td><td>Rock</td><td>Water</td><td>355</td><td>30</td><td>80</td><td>90</td><td>55</td><td>45</td><td>55</td><td>false</td></tr><tr><td>141</td><td>Kabutops</td><td>Rock</td><td>Water</td><td>495</td><td>60</td><td>115</td><td>105</td><td>65</td><td>70</td><td>80</td><td>false</td></tr><tr><td>142</td><td>Aerodactyl</td><td>Rock</td><td>Flying</td><td>515</td><td>80</td><td>105</td><td>65</td><td>60</td><td>75</td><td>130</td><td>false</td></tr><tr><td>142</td><td>AerodactylMega Aerodactyl</td><td>Rock</td><td>Flying</td><td>615</td><td>80</td><td>135</td><td>85</td><td>70</td><td>95</td><td>150</td><td>false</td></tr><tr><td>143</td><td>Snorlax</td><td>Normal</td><td>null</td><td>540</td><td>160</td><td>110</td><td>65</td><td>65</td><td>110</td><td>30</td><td>false</td></tr><tr><td>144</td><td>Articuno</td><td>Ice</td><td>Flying</td><td>580</td><td>90</td><td>85</td><td>100</td><td>95</td><td>125</td><td>85</td><td>true</td></tr><tr><td>145</td><td>Zapdos</td><td>Electric</td><td>Flying</td><td>580</td><td>90</td><td>90</td><td>85</td><td>125</td><td>90</td><td>100</td><td>true</td></tr><tr><td>146</td><td>Moltres</td><td>Fire</td><td>Flying</td><td>580</td><td>90</td><td>100</td><td>90</td><td>125</td><td>85</td><td>90</td><td>true</td></tr><tr><td>147</td><td>Dratini</td><td>Dragon</td><td>null</td><td>300</td><td>41</td><td>64</td><td>45</td><td>50</td><td>50</td><td>50</td><td>false</td></tr><tr><td>148</td><td>Dragonair</td><td>Dragon</td><td>null</td><td>420</td><td>61</td><td>84</td><td>65</td><td>70</td><td>70</td><td>70</td><td>false</td></tr><tr><td>149</td><td>Dragonite</td><td>Dragon</td><td>Flying</td><td>600</td><td>91</td><td>134</td><td>95</td><td>100</td><td>100</td><td>80</td><td>false</td></tr><tr><td>150</td><td>Mewtwo</td><td>Psychic</td><td>null</td><td>680</td><td>106</td><td>110</td><td>90</td><td>154</td><td>90</td><td>130</td><td>true</td></tr><tr><td>150</td><td>MewtwoMega Mewtwo X</td><td>Psychic</td><td>Fighting</td><td>780</td><td>106</td><td>190</td><td>100</td><td>154</td><td>100</td><td>130</td><td>true</td></tr><tr><td>150</td><td>MewtwoMega Mewtwo Y</td><td>Psychic</td><td>null</td><td>780</td><td>106</td><td>150</td><td>70</td><td>194</td><td>120</td><td>140</td><td>true</td></tr><tr><td>151</td><td>Mew</td><td>Psychic</td><td>null</td><td>600</td><td>100</td><td>100</td><td>100</td><td>100</td><td>100</td><td>100</td><td>false</td></tr></tbody></table></div>"
      ]
     },
     "metadata": {
      "application/vnd.databricks.v1+output": {
       "addedWidgets": {},
       "aggData": [],
       "aggError": "",
       "aggOverflow": false,
       "aggSchema": [],
       "aggSeriesLimitReached": false,
       "aggType": "",
       "arguments": {},
       "columnCustomDisplayInfos": {},
       "data": [
        [
         1,
         "Bulbasaur",
         "Grass",
         "Poison",
         318,
         45,
         49,
         49,
         65,
         65,
         45,
         false
        ],
        [
         2,
         "Ivysaur",
         "Grass",
         "Poison",
         405,
         60,
         62,
         63,
         80,
         80,
         60,
         false
        ],
        [
         3,
         "Venusaur",
         "Grass",
         "Poison",
         525,
         80,
         82,
         83,
         100,
         100,
         80,
         false
        ],
        [
         3,
         "VenusaurMega Venusaur",
         "Grass",
         "Poison",
         625,
         80,
         100,
         123,
         122,
         120,
         80,
         false
        ],
        [
         4,
         "Charmander",
         "Fire",
         null,
         309,
         39,
         52,
         43,
         60,
         50,
         65,
         false
        ],
        [
         5,
         "Charmeleon",
         "Fire",
         null,
         405,
         58,
         64,
         58,
         80,
         65,
         80,
         false
        ],
        [
         6,
         "Charizard",
         "Fire",
         "Flying",
         534,
         78,
         84,
         78,
         109,
         85,
         100,
         false
        ],
        [
         6,
         "CharizardMega Charizard X",
         "Fire",
         "Dragon",
         634,
         78,
         130,
         111,
         130,
         85,
         100,
         false
        ],
        [
         6,
         "CharizardMega Charizard Y",
         "Fire",
         "Flying",
         634,
         78,
         104,
         78,
         159,
         115,
         100,
         false
        ],
        [
         7,
         "Squirtle",
         "Water",
         null,
         314,
         44,
         48,
         65,
         50,
         64,
         43,
         false
        ],
        [
         8,
         "Wartortle",
         "Water",
         null,
         405,
         59,
         63,
         80,
         65,
         80,
         58,
         false
        ],
        [
         9,
         "Blastoise",
         "Water",
         null,
         530,
         79,
         83,
         100,
         85,
         105,
         78,
         false
        ],
        [
         9,
         "BlastoiseMega Blastoise",
         "Water",
         null,
         630,
         79,
         103,
         120,
         135,
         115,
         78,
         false
        ],
        [
         10,
         "Caterpie",
         "Bug",
         null,
         195,
         45,
         30,
         35,
         20,
         20,
         45,
         false
        ],
        [
         11,
         "Metapod",
         "Bug",
         null,
         205,
         50,
         20,
         55,
         25,
         25,
         30,
         false
        ],
        [
         12,
         "Butterfree",
         "Bug",
         "Flying",
         395,
         60,
         45,
         50,
         90,
         80,
         70,
         false
        ],
        [
         13,
         "Weedle",
         "Bug",
         "Poison",
         195,
         40,
         35,
         30,
         20,
         20,
         50,
         false
        ],
        [
         14,
         "Kakuna",
         "Bug",
         "Poison",
         205,
         45,
         25,
         50,
         25,
         25,
         35,
         false
        ],
        [
         15,
         "Beedrill",
         "Bug",
         "Poison",
         395,
         65,
         90,
         40,
         45,
         80,
         75,
         false
        ],
        [
         15,
         "BeedrillMega Beedrill",
         "Bug",
         "Poison",
         495,
         65,
         150,
         40,
         15,
         80,
         145,
         false
        ],
        [
         16,
         "Pidgey",
         "Normal",
         "Flying",
         251,
         40,
         45,
         40,
         35,
         35,
         56,
         false
        ],
        [
         17,
         "Pidgeotto",
         "Normal",
         "Flying",
         349,
         63,
         60,
         55,
         50,
         50,
         71,
         false
        ],
        [
         18,
         "Pidgeot",
         "Normal",
         "Flying",
         479,
         83,
         80,
         75,
         70,
         70,
         101,
         false
        ],
        [
         18,
         "PidgeotMega Pidgeot",
         "Normal",
         "Flying",
         579,
         83,
         80,
         80,
         135,
         80,
         121,
         false
        ],
        [
         19,
         "Rattata",
         "Normal",
         null,
         253,
         30,
         56,
         35,
         25,
         35,
         72,
         false
        ],
        [
         20,
         "Raticate",
         "Normal",
         null,
         413,
         55,
         81,
         60,
         50,
         70,
         97,
         false
        ],
        [
         21,
         "Spearow",
         "Normal",
         "Flying",
         262,
         40,
         60,
         30,
         31,
         31,
         70,
         false
        ],
        [
         22,
         "Fearow",
         "Normal",
         "Flying",
         442,
         65,
         90,
         65,
         61,
         61,
         100,
         false
        ],
        [
         23,
         "Ekans",
         "Poison",
         null,
         288,
         35,
         60,
         44,
         40,
         54,
         55,
         false
        ],
        [
         24,
         "Arbok",
         "Poison",
         null,
         438,
         60,
         85,
         69,
         65,
         79,
         80,
         false
        ],
        [
         25,
         "Pikachu",
         "Electric",
         null,
         320,
         35,
         55,
         40,
         50,
         50,
         90,
         false
        ],
        [
         26,
         "Raichu",
         "Electric",
         null,
         485,
         60,
         90,
         55,
         90,
         80,
         110,
         false
        ],
        [
         27,
         "Sandshrew",
         "Ground",
         null,
         300,
         50,
         75,
         85,
         20,
         30,
         40,
         false
        ],
        [
         28,
         "Sandslash",
         "Ground",
         null,
         450,
         75,
         100,
         110,
         45,
         55,
         65,
         false
        ],
        [
         29,
         "Nidoran♀",
         "Poison",
         null,
         275,
         55,
         47,
         52,
         40,
         40,
         41,
         false
        ],
        [
         30,
         "Nidorina",
         "Poison",
         null,
         365,
         70,
         62,
         67,
         55,
         55,
         56,
         false
        ],
        [
         31,
         "Nidoqueen",
         "Poison",
         "Ground",
         505,
         90,
         92,
         87,
         75,
         85,
         76,
         false
        ],
        [
         32,
         "Nidoran♂",
         "Poison",
         null,
         273,
         46,
         57,
         40,
         40,
         40,
         50,
         false
        ],
        [
         33,
         "Nidorino",
         "Poison",
         null,
         365,
         61,
         72,
         57,
         55,
         55,
         65,
         false
        ],
        [
         34,
         "Nidoking",
         "Poison",
         "Ground",
         505,
         81,
         102,
         77,
         85,
         75,
         85,
         false
        ],
        [
         35,
         "Clefairy",
         "Fairy",
         null,
         323,
         70,
         45,
         48,
         60,
         65,
         35,
         false
        ],
        [
         36,
         "Clefable",
         "Fairy",
         null,
         483,
         95,
         70,
         73,
         95,
         90,
         60,
         false
        ],
        [
         37,
         "Vulpix",
         "Fire",
         null,
         299,
         38,
         41,
         40,
         50,
         65,
         65,
         false
        ],
        [
         38,
         "Ninetales",
         "Fire",
         null,
         505,
         73,
         76,
         75,
         81,
         100,
         100,
         false
        ],
        [
         39,
         "Jigglypuff",
         "Normal",
         "Fairy",
         270,
         115,
         45,
         20,
         45,
         25,
         20,
         false
        ],
        [
         40,
         "Wigglytuff",
         "Normal",
         "Fairy",
         435,
         140,
         70,
         45,
         85,
         50,
         45,
         false
        ],
        [
         41,
         "Zubat",
         "Poison",
         "Flying",
         245,
         40,
         45,
         35,
         30,
         40,
         55,
         false
        ],
        [
         42,
         "Golbat",
         "Poison",
         "Flying",
         455,
         75,
         80,
         70,
         65,
         75,
         90,
         false
        ],
        [
         43,
         "Oddish",
         "Grass",
         "Poison",
         320,
         45,
         50,
         55,
         75,
         65,
         30,
         false
        ],
        [
         44,
         "Gloom",
         "Grass",
         "Poison",
         395,
         60,
         65,
         70,
         85,
         75,
         40,
         false
        ],
        [
         45,
         "Vileplume",
         "Grass",
         "Poison",
         490,
         75,
         80,
         85,
         110,
         90,
         50,
         false
        ],
        [
         46,
         "Paras",
         "Bug",
         "Grass",
         285,
         35,
         70,
         55,
         45,
         55,
         25,
         false
        ],
        [
         47,
         "Parasect",
         "Bug",
         "Grass",
         405,
         60,
         95,
         80,
         60,
         80,
         30,
         false
        ],
        [
         48,
         "Venonat",
         "Bug",
         "Poison",
         305,
         60,
         55,
         50,
         40,
         55,
         45,
         false
        ],
        [
         49,
         "Venomoth",
         "Bug",
         "Poison",
         450,
         70,
         65,
         60,
         90,
         75,
         90,
         false
        ],
        [
         50,
         "Diglett",
         "Ground",
         null,
         265,
         10,
         55,
         25,
         35,
         45,
         95,
         false
        ],
        [
         51,
         "Dugtrio",
         "Ground",
         null,
         405,
         35,
         80,
         50,
         50,
         70,
         120,
         false
        ],
        [
         52,
         "Meowth",
         "Normal",
         null,
         290,
         40,
         45,
         35,
         40,
         40,
         90,
         false
        ],
        [
         53,
         "Persian",
         "Normal",
         null,
         440,
         65,
         70,
         60,
         65,
         65,
         115,
         false
        ],
        [
         54,
         "Psyduck",
         "Water",
         null,
         320,
         50,
         52,
         48,
         65,
         50,
         55,
         false
        ],
        [
         55,
         "Golduck",
         "Water",
         null,
         500,
         80,
         82,
         78,
         95,
         80,
         85,
         false
        ],
        [
         56,
         "Mankey",
         "Fighting",
         null,
         305,
         40,
         80,
         35,
         35,
         45,
         70,
         false
        ],
        [
         57,
         "Primeape",
         "Fighting",
         null,
         455,
         65,
         105,
         60,
         60,
         70,
         95,
         false
        ],
        [
         58,
         "Growlithe",
         "Fire",
         null,
         350,
         55,
         70,
         45,
         70,
         50,
         60,
         false
        ],
        [
         59,
         "Arcanine",
         "Fire",
         null,
         555,
         90,
         110,
         80,
         100,
         80,
         95,
         false
        ],
        [
         60,
         "Poliwag",
         "Water",
         null,
         300,
         40,
         50,
         40,
         40,
         40,
         90,
         false
        ],
        [
         61,
         "Poliwhirl",
         "Water",
         null,
         385,
         65,
         65,
         65,
         50,
         50,
         90,
         false
        ],
        [
         62,
         "Poliwrath",
         "Water",
         "Fighting",
         510,
         90,
         95,
         95,
         70,
         90,
         70,
         false
        ],
        [
         63,
         "Abra",
         "Psychic",
         null,
         310,
         25,
         20,
         15,
         105,
         55,
         90,
         false
        ],
        [
         64,
         "Kadabra",
         "Psychic",
         null,
         400,
         40,
         35,
         30,
         120,
         70,
         105,
         false
        ],
        [
         65,
         "Alakazam",
         "Psychic",
         null,
         500,
         55,
         50,
         45,
         135,
         95,
         120,
         false
        ],
        [
         65,
         "AlakazamMega Alakazam",
         "Psychic",
         null,
         590,
         55,
         50,
         65,
         175,
         95,
         150,
         false
        ],
        [
         66,
         "Machop",
         "Fighting",
         null,
         305,
         70,
         80,
         50,
         35,
         35,
         35,
         false
        ],
        [
         67,
         "Machoke",
         "Fighting",
         null,
         405,
         80,
         100,
         70,
         50,
         60,
         45,
         false
        ],
        [
         68,
         "Machamp",
         "Fighting",
         null,
         505,
         90,
         130,
         80,
         65,
         85,
         55,
         false
        ],
        [
         69,
         "Bellsprout",
         "Grass",
         "Poison",
         300,
         50,
         75,
         35,
         70,
         30,
         40,
         false
        ],
        [
         70,
         "Weepinbell",
         "Grass",
         "Poison",
         390,
         65,
         90,
         50,
         85,
         45,
         55,
         false
        ],
        [
         71,
         "Victreebel",
         "Grass",
         "Poison",
         490,
         80,
         105,
         65,
         100,
         70,
         70,
         false
        ],
        [
         72,
         "Tentacool",
         "Water",
         "Poison",
         335,
         40,
         40,
         35,
         50,
         100,
         70,
         false
        ],
        [
         73,
         "Tentacruel",
         "Water",
         "Poison",
         515,
         80,
         70,
         65,
         80,
         120,
         100,
         false
        ],
        [
         74,
         "Geodude",
         "Rock",
         "Ground",
         300,
         40,
         80,
         100,
         30,
         30,
         20,
         false
        ],
        [
         75,
         "Graveler",
         "Rock",
         "Ground",
         390,
         55,
         95,
         115,
         45,
         45,
         35,
         false
        ],
        [
         76,
         "Golem",
         "Rock",
         "Ground",
         495,
         80,
         120,
         130,
         55,
         65,
         45,
         false
        ],
        [
         77,
         "Ponyta",
         "Fire",
         null,
         410,
         50,
         85,
         55,
         65,
         65,
         90,
         false
        ],
        [
         78,
         "Rapidash",
         "Fire",
         null,
         500,
         65,
         100,
         70,
         80,
         80,
         105,
         false
        ],
        [
         79,
         "Slowpoke",
         "Water",
         "Psychic",
         315,
         90,
         65,
         65,
         40,
         40,
         15,
         false
        ],
        [
         80,
         "Slowbro",
         "Water",
         "Psychic",
         490,
         95,
         75,
         110,
         100,
         80,
         30,
         false
        ],
        [
         80,
         "SlowbroMega Slowbro",
         "Water",
         "Psychic",
         590,
         95,
         75,
         180,
         130,
         80,
         30,
         false
        ],
        [
         81,
         "Magnemite",
         "Electric",
         "Steel",
         325,
         25,
         35,
         70,
         95,
         55,
         45,
         false
        ],
        [
         82,
         "Magneton",
         "Electric",
         "Steel",
         465,
         50,
         60,
         95,
         120,
         70,
         70,
         false
        ],
        [
         83,
         "Farfetch'd",
         "Normal",
         "Flying",
         352,
         52,
         65,
         55,
         58,
         62,
         60,
         false
        ],
        [
         84,
         "Doduo",
         "Normal",
         "Flying",
         310,
         35,
         85,
         45,
         35,
         35,
         75,
         false
        ],
        [
         85,
         "Dodrio",
         "Normal",
         "Flying",
         460,
         60,
         110,
         70,
         60,
         60,
         100,
         false
        ],
        [
         86,
         "Seel",
         "Water",
         null,
         325,
         65,
         45,
         55,
         45,
         70,
         45,
         false
        ],
        [
         87,
         "Dewgong",
         "Water",
         "Ice",
         475,
         90,
         70,
         80,
         70,
         95,
         70,
         false
        ],
        [
         88,
         "Grimer",
         "Poison",
         null,
         325,
         80,
         80,
         50,
         40,
         50,
         25,
         false
        ],
        [
         89,
         "Muk",
         "Poison",
         null,
         500,
         105,
         105,
         75,
         65,
         100,
         50,
         false
        ],
        [
         90,
         "Shellder",
         "Water",
         null,
         305,
         30,
         65,
         100,
         45,
         25,
         40,
         false
        ],
        [
         91,
         "Cloyster",
         "Water",
         "Ice",
         525,
         50,
         95,
         180,
         85,
         45,
         70,
         false
        ],
        [
         92,
         "Gastly",
         "Ghost",
         "Poison",
         310,
         30,
         35,
         30,
         100,
         35,
         80,
         false
        ],
        [
         93,
         "Haunter",
         "Ghost",
         "Poison",
         405,
         45,
         50,
         45,
         115,
         55,
         95,
         false
        ],
        [
         94,
         "Gengar",
         "Ghost",
         "Poison",
         500,
         60,
         65,
         60,
         130,
         75,
         110,
         false
        ],
        [
         94,
         "GengarMega Gengar",
         "Ghost",
         "Poison",
         600,
         60,
         65,
         80,
         170,
         95,
         130,
         false
        ],
        [
         95,
         "Onix",
         "Rock",
         "Ground",
         385,
         35,
         45,
         160,
         30,
         45,
         70,
         false
        ],
        [
         96,
         "Drowzee",
         "Psychic",
         null,
         328,
         60,
         48,
         45,
         43,
         90,
         42,
         false
        ],
        [
         97,
         "Hypno",
         "Psychic",
         null,
         483,
         85,
         73,
         70,
         73,
         115,
         67,
         false
        ],
        [
         98,
         "Krabby",
         "Water",
         null,
         325,
         30,
         105,
         90,
         25,
         25,
         50,
         false
        ],
        [
         99,
         "Kingler",
         "Water",
         null,
         475,
         55,
         130,
         115,
         50,
         50,
         75,
         false
        ],
        [
         100,
         "Voltorb",
         "Electric",
         null,
         330,
         40,
         30,
         50,
         55,
         55,
         100,
         false
        ],
        [
         101,
         "Electrode",
         "Electric",
         null,
         480,
         60,
         50,
         70,
         80,
         80,
         140,
         false
        ],
        [
         102,
         "Exeggcute",
         "Grass",
         "Psychic",
         325,
         60,
         40,
         80,
         60,
         45,
         40,
         false
        ],
        [
         103,
         "Exeggutor",
         "Grass",
         "Psychic",
         520,
         95,
         95,
         85,
         125,
         65,
         55,
         false
        ],
        [
         104,
         "Cubone",
         "Ground",
         null,
         320,
         50,
         50,
         95,
         40,
         50,
         35,
         false
        ],
        [
         105,
         "Marowak",
         "Ground",
         null,
         425,
         60,
         80,
         110,
         50,
         80,
         45,
         false
        ],
        [
         106,
         "Hitmonlee",
         "Fighting",
         null,
         455,
         50,
         120,
         53,
         35,
         110,
         87,
         false
        ],
        [
         107,
         "Hitmonchan",
         "Fighting",
         null,
         455,
         50,
         105,
         79,
         35,
         110,
         76,
         false
        ],
        [
         108,
         "Lickitung",
         "Normal",
         null,
         385,
         90,
         55,
         75,
         60,
         75,
         30,
         false
        ],
        [
         109,
         "Koffing",
         "Poison",
         null,
         340,
         40,
         65,
         95,
         60,
         45,
         35,
         false
        ],
        [
         110,
         "Weezing",
         "Poison",
         null,
         490,
         65,
         90,
         120,
         85,
         70,
         60,
         false
        ],
        [
         111,
         "Rhyhorn",
         "Ground",
         "Rock",
         345,
         80,
         85,
         95,
         30,
         30,
         25,
         false
        ],
        [
         112,
         "Rhydon",
         "Ground",
         "Rock",
         485,
         105,
         130,
         120,
         45,
         45,
         40,
         false
        ],
        [
         113,
         "Chansey",
         "Normal",
         null,
         450,
         250,
         5,
         5,
         35,
         105,
         50,
         false
        ],
        [
         114,
         "Tangela",
         "Grass",
         null,
         435,
         65,
         55,
         115,
         100,
         40,
         60,
         false
        ],
        [
         115,
         "Kangaskhan",
         "Normal",
         null,
         490,
         105,
         95,
         80,
         40,
         80,
         90,
         false
        ],
        [
         115,
         "KangaskhanMega Kangaskhan",
         "Normal",
         null,
         590,
         105,
         125,
         100,
         60,
         100,
         100,
         false
        ],
        [
         116,
         "Horsea",
         "Water",
         null,
         295,
         30,
         40,
         70,
         70,
         25,
         60,
         false
        ],
        [
         117,
         "Seadra",
         "Water",
         null,
         440,
         55,
         65,
         95,
         95,
         45,
         85,
         false
        ],
        [
         118,
         "Goldeen",
         "Water",
         null,
         320,
         45,
         67,
         60,
         35,
         50,
         63,
         false
        ],
        [
         119,
         "Seaking",
         "Water",
         null,
         450,
         80,
         92,
         65,
         65,
         80,
         68,
         false
        ],
        [
         120,
         "Staryu",
         "Water",
         null,
         340,
         30,
         45,
         55,
         70,
         55,
         85,
         false
        ],
        [
         121,
         "Starmie",
         "Water",
         "Psychic",
         520,
         60,
         75,
         85,
         100,
         85,
         115,
         false
        ],
        [
         122,
         "Mr. Mime",
         "Psychic",
         "Fairy",
         460,
         40,
         45,
         65,
         100,
         120,
         90,
         false
        ],
        [
         123,
         "Scyther",
         "Bug",
         "Flying",
         500,
         70,
         110,
         80,
         55,
         80,
         105,
         false
        ],
        [
         124,
         "Jynx",
         "Ice",
         "Psychic",
         455,
         65,
         50,
         35,
         115,
         95,
         95,
         false
        ],
        [
         125,
         "Electabuzz",
         "Electric",
         null,
         490,
         65,
         83,
         57,
         95,
         85,
         105,
         false
        ],
        [
         126,
         "Magmar",
         "Fire",
         null,
         495,
         65,
         95,
         57,
         100,
         85,
         93,
         false
        ],
        [
         127,
         "Pinsir",
         "Bug",
         null,
         500,
         65,
         125,
         100,
         55,
         70,
         85,
         false
        ],
        [
         127,
         "PinsirMega Pinsir",
         "Bug",
         "Flying",
         600,
         65,
         155,
         120,
         65,
         90,
         105,
         false
        ],
        [
         128,
         "Tauros",
         "Normal",
         null,
         490,
         75,
         100,
         95,
         40,
         70,
         110,
         false
        ],
        [
         129,
         "Magikarp",
         "Water",
         null,
         200,
         20,
         10,
         55,
         15,
         20,
         80,
         false
        ],
        [
         130,
         "Gyarados",
         "Water",
         "Flying",
         540,
         95,
         125,
         79,
         60,
         100,
         81,
         false
        ],
        [
         130,
         "GyaradosMega Gyarados",
         "Water",
         "Dark",
         640,
         95,
         155,
         109,
         70,
         130,
         81,
         false
        ],
        [
         131,
         "Lapras",
         "Water",
         "Ice",
         535,
         130,
         85,
         80,
         85,
         95,
         60,
         false
        ],
        [
         132,
         "Ditto",
         "Normal",
         null,
         288,
         48,
         48,
         48,
         48,
         48,
         48,
         false
        ],
        [
         133,
         "Eevee",
         "Normal",
         null,
         325,
         55,
         55,
         50,
         45,
         65,
         55,
         false
        ],
        [
         134,
         "Vaporeon",
         "Water",
         null,
         525,
         130,
         65,
         60,
         110,
         95,
         65,
         false
        ],
        [
         135,
         "Jolteon",
         "Electric",
         null,
         525,
         65,
         65,
         60,
         110,
         95,
         130,
         false
        ],
        [
         136,
         "Flareon",
         "Fire",
         null,
         525,
         65,
         130,
         60,
         95,
         110,
         65,
         false
        ],
        [
         137,
         "Porygon",
         "Normal",
         null,
         395,
         65,
         60,
         70,
         85,
         75,
         40,
         false
        ],
        [
         138,
         "Omanyte",
         "Rock",
         "Water",
         355,
         35,
         40,
         100,
         90,
         55,
         35,
         false
        ],
        [
         139,
         "Omastar",
         "Rock",
         "Water",
         495,
         70,
         60,
         125,
         115,
         70,
         55,
         false
        ],
        [
         140,
         "Kabuto",
         "Rock",
         "Water",
         355,
         30,
         80,
         90,
         55,
         45,
         55,
         false
        ],
        [
         141,
         "Kabutops",
         "Rock",
         "Water",
         495,
         60,
         115,
         105,
         65,
         70,
         80,
         false
        ],
        [
         142,
         "Aerodactyl",
         "Rock",
         "Flying",
         515,
         80,
         105,
         65,
         60,
         75,
         130,
         false
        ],
        [
         142,
         "AerodactylMega Aerodactyl",
         "Rock",
         "Flying",
         615,
         80,
         135,
         85,
         70,
         95,
         150,
         false
        ],
        [
         143,
         "Snorlax",
         "Normal",
         null,
         540,
         160,
         110,
         65,
         65,
         110,
         30,
         false
        ],
        [
         144,
         "Articuno",
         "Ice",
         "Flying",
         580,
         90,
         85,
         100,
         95,
         125,
         85,
         true
        ],
        [
         145,
         "Zapdos",
         "Electric",
         "Flying",
         580,
         90,
         90,
         85,
         125,
         90,
         100,
         true
        ],
        [
         146,
         "Moltres",
         "Fire",
         "Flying",
         580,
         90,
         100,
         90,
         125,
         85,
         90,
         true
        ],
        [
         147,
         "Dratini",
         "Dragon",
         null,
         300,
         41,
         64,
         45,
         50,
         50,
         50,
         false
        ],
        [
         148,
         "Dragonair",
         "Dragon",
         null,
         420,
         61,
         84,
         65,
         70,
         70,
         70,
         false
        ],
        [
         149,
         "Dragonite",
         "Dragon",
         "Flying",
         600,
         91,
         134,
         95,
         100,
         100,
         80,
         false
        ],
        [
         150,
         "Mewtwo",
         "Psychic",
         null,
         680,
         106,
         110,
         90,
         154,
         90,
         130,
         true
        ],
        [
         150,
         "MewtwoMega Mewtwo X",
         "Psychic",
         "Fighting",
         780,
         106,
         190,
         100,
         154,
         100,
         130,
         true
        ],
        [
         150,
         "MewtwoMega Mewtwo Y",
         "Psychic",
         null,
         780,
         106,
         150,
         70,
         194,
         120,
         140,
         true
        ],
        [
         151,
         "Mew",
         "Psychic",
         null,
         600,
         100,
         100,
         100,
         100,
         100,
         100,
         false
        ]
       ],
       "datasetInfos": [],
       "dbfsResultPath": null,
       "isJsonSchema": true,
       "metadata": {},
       "overflow": false,
       "plotOptions": {
        "customPlotOptions": {},
        "displayType": "table",
        "pivotAggregation": null,
        "pivotColumns": null,
        "xColumns": null,
        "yColumns": null
       },
       "removedWidgets": [],
       "schema": [
        {
         "metadata": "{}",
         "name": "#",
         "type": "\"integer\""
        },
        {
         "metadata": "{}",
         "name": "Name",
         "type": "\"string\""
        },
        {
         "metadata": "{}",
         "name": "Type 1",
         "type": "\"string\""
        },
        {
         "metadata": "{}",
         "name": "Type 2",
         "type": "\"string\""
        },
        {
         "metadata": "{}",
         "name": "Total",
         "type": "\"integer\""
        },
        {
         "metadata": "{}",
         "name": "HP",
         "type": "\"integer\""
        },
        {
         "metadata": "{}",
         "name": "Attack",
         "type": "\"integer\""
        },
        {
         "metadata": "{}",
         "name": "Defense",
         "type": "\"integer\""
        },
        {
         "metadata": "{}",
         "name": "Sp. Atk",
         "type": "\"integer\""
        },
        {
         "metadata": "{}",
         "name": "Sp. Def",
         "type": "\"integer\""
        },
        {
         "metadata": "{}",
         "name": "Speed",
         "type": "\"integer\""
        },
        {
         "metadata": "{}",
         "name": "Legendary",
         "type": "\"boolean\""
        }
       ],
       "type": "table"
      }
     },
     "output_type": "display_data"
    }
   ],
   "source": [
    "data1=spark.read.parquet('dbfs:/partitioned_data/Generation=1',header=True,inferrSchema=True)\n",
    "display(data1)"
   ]
  }
 ],
 "metadata": {
  "application/vnd.databricks.v1+notebook": {
   "computePreferences": null,
   "dashboards": [],
   "environmentMetadata": {
    "base_environment": "",
    "client": "1"
   },
   "language": "python",
   "notebookMetadata": {
    "pythonIndentUnit": 4
   },
   "notebookName": "UDF_RDD",
   "widgets": {}
  }
 },
 "nbformat": 4,
 "nbformat_minor": 0
}
